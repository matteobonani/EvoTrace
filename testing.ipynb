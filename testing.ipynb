{
 "cells": [
  {
   "metadata": {
    "ExecuteTime": {
     "end_time": "2024-12-12T21:11:06.859018Z",
     "start_time": "2024-12-12T21:11:06.838947Z"
    }
   },
   "cell_type": "code",
   "source": [
    "import pdb\n",
    "from pymoo.algorithms.moo.nsga2 import NSGA2\n",
    "from pymoo.operators.sampling.rnd import FloatRandomSampling\n",
    "from pymoo.optimize import minimize\n",
    "import random\n",
    "from pymoo.operators.selection.tournament import TournamentSelection\n",
    "from problem import MyProblem\n",
    "from mutation import MyMutation\n",
    "from crossover import TraceCrossover\n",
    "from mock_tools import MockEncoder, MockDeclare4Py\n",
    "from sampling import MySampling\n",
    "from callback import UpdatePopulationCallback\n",
    "from growingGA import GrowingNSGA2, PreSurvivalNSGA2\n",
    "import numpy as np\n",
    "from tools import Tools\n",
    "from survival import MySurvival\n",
    "from pymoo.operators.crossover.sbx import SBX\n",
    "from Declare4Py.ProcessModels.DeclareModel import DeclareModel\n",
    "from Declare4Py.ProcessModels.DeclareModel import DeclareModelTemplate\n",
    "from Declare4Py.D4PyEventLog import D4PyEventLog\n",
    "import warnings\n",
    "import random\n",
    "from datetime import datetime, timedelta\n",
    "from Declare4Py.ProcessMiningTasks.ConformanceChecking.MPDeclareResultsBrowser import MPDeclareResultsBrowser\n",
    "from Declare4Py.ProcessMiningTasks.ConformanceChecking.MPDeclareAnalyzer import MPDeclareAnalyzer\n",
    "import os\n",
    "import pandas as pd\n",
    "warnings.filterwarnings(\"ignore\", \".*feasible.*\")\n",
    "\n",
    "# n_events = 5-10-15-20\n",
    "# n_activities = 5-10-15-20-25-30\n",
    "\n",
    "activities_name = [\"A\", \"B\", \"C\", \"D\", \"E\", \"F\", \"G\", \"H\", \"I\", \"J\", \"K\", \"L\", \"M\", \"N\", \"O\", \"P\", \"Q\", \"R\", \"S\", \"T\"]\n",
    "variable_boundaries = [1,1,1,1,1,1,1,1,1,1,1,1,1,1,1,1,1,1,1,1]\n",
    "timestamps = Tools.generate_random_timestamps(len(activities_name))\n",
    "case_concept_name = ['1'] * len(activities_name)\n",
    "\n",
    "data = {\n",
    "    'case:concept:name': case_concept_name,\n",
    "    'concept:name': activities_name,\n",
    "    'timestamp': timestamps,\n",
    "}\n",
    "\n",
    "dataframe = pd.DataFrame(data)\n",
    "\n",
    "\n",
    "dataframe['timestamp'] = pd.to_datetime(dataframe['timestamp'])\n",
    "\n",
    "\n",
    "encoder = MockEncoder(activities_name)\n",
    "declare = DeclareModel().parse_from_file(\"base_model.decl\")\n",
    "model_constraints = declare.get_decl_model_constraints()\n",
    "\n",
    "event_log = D4PyEventLog()\n",
    "event_log.log = dataframe\n",
    "\n",
    "# TODO make some info\n",
    "event_log.timestamp_key = \"timestamp\"\n",
    "event_log.activity_key = \"concept:name\"\n",
    "\n",
    "event_log.to_eventlog()\n",
    "\n",
    "basic_checker = MPDeclareAnalyzer(log=event_log, declare_model=declare, consider_vacuity=False)\n",
    "conf_check_res: MPDeclareResultsBrowser = basic_checker.run()\n",
    "\n",
    "print(conf_check_res.get_metric(trace_id=0, metric=\"num_activations\"))\n",
    "print(\"-------------------------------------------\")\n",
    "\n",
    "d4py = MockDeclare4Py()"
   ],
   "id": "1b82ed56-8e60-4026-9f58-bf1b51e2983d",
   "outputs": [
    {
     "name": "stdout",
     "output_type": "stream",
     "text": [
      "[None, None, None, 1, 1, 1]\n",
      "-------------------------------------------\n"
     ]
    }
   ],
   "execution_count": 7
  },
  {
   "metadata": {
    "ExecuteTime": {
     "end_time": "2024-12-12T21:11:06.874779Z",
     "start_time": "2024-12-12T21:11:06.863527Z"
    }
   },
   "cell_type": "code",
   "source": [
    "\n",
    "# create random pop\n",
    "n_traces = 10\n",
    "trace_length = 20\n",
    "\n",
    "initial_population = [[random.choice(activities_name) for _ in range(trace_length)] for _ in range(n_traces)]\n",
    "initial_encoded_pop = [encoder.encode(trace) for trace in initial_population]\n",
    "features_range = Tools.calculate_feature_range(initial_encoded_pop, variable_boundaries)\n",
    "lower_bounds = [x[0] for x in features_range]\n",
    "upper_bounds = [x[1] for x in features_range]\n",
    "\n",
    "print(initial_population)\n",
    "print(initial_encoded_pop)\n",
    "\n",
    "# expanded_pop = Tools.expand_population(initial_encoded_pop, 50, features_range)"
   ],
   "id": "88de3206fe3d37c8",
   "outputs": [
    {
     "name": "stdout",
     "output_type": "stream",
     "text": [
      "[['S', 'D', 'K', 'A', 'A', 'A', 'R', 'A', 'M', 'G', 'N', 'A', 'Q', 'H', 'O', 'P', 'R', 'H', 'L', 'H'], ['H', 'O', 'J', 'A', 'N', 'R', 'D', 'F', 'J', 'D', 'K', 'Q', 'N', 'Q', 'G', 'J', 'J', 'S', 'P', 'Q'], ['M', 'S', 'B', 'P', 'H', 'M', 'N', 'F', 'L', 'R', 'L', 'C', 'O', 'Q', 'D', 'F', 'Q', 'M', 'L', 'P'], ['A', 'P', 'B', 'J', 'T', 'S', 'S', 'M', 'F', 'F', 'Q', 'H', 'A', 'G', 'R', 'R', 'H', 'M', 'Q', 'L'], ['S', 'L', 'O', 'I', 'R', 'T', 'A', 'M', 'Q', 'E', 'Q', 'R', 'G', 'N', 'B', 'P', 'L', 'S', 'R', 'G'], ['Q', 'N', 'P', 'L', 'N', 'L', 'A', 'R', 'R', 'T', 'T', 'K', 'O', 'T', 'A', 'H', 'F', 'R', 'S', 'F'], ['C', 'R', 'I', 'B', 'C', 'C', 'A', 'O', 'A', 'I', 'H', 'I', 'D', 'T', 'F', 'L', 'J', 'C', 'F', 'F'], ['I', 'Q', 'F', 'I', 'J', 'O', 'K', 'P', 'P', 'D', 'A', 'J', 'M', 'K', 'N', 'G', 'I', 'D', 'I', 'Q'], ['G', 'T', 'N', 'A', 'H', 'A', 'M', 'E', 'B', 'F', 'O', 'Q', 'N', 'R', 'H', 'Q', 'O', 'H', 'Q', 'A'], ['M', 'S', 'K', 'N', 'B', 'J', 'E', 'G', 'B', 'J', 'C', 'C', 'J', 'J', 'F', 'N', 'S', 'I', 'E', 'A']]\n",
      "[[18, 3, 10, 0, 0, 0, 17, 0, 12, 6, 13, 0, 16, 7, 14, 15, 17, 7, 11, 7], [7, 14, 9, 0, 13, 17, 3, 5, 9, 3, 10, 16, 13, 16, 6, 9, 9, 18, 15, 16], [12, 18, 1, 15, 7, 12, 13, 5, 11, 17, 11, 2, 14, 16, 3, 5, 16, 12, 11, 15], [0, 15, 1, 9, 19, 18, 18, 12, 5, 5, 16, 7, 0, 6, 17, 17, 7, 12, 16, 11], [18, 11, 14, 8, 17, 19, 0, 12, 16, 4, 16, 17, 6, 13, 1, 15, 11, 18, 17, 6], [16, 13, 15, 11, 13, 11, 0, 17, 17, 19, 19, 10, 14, 19, 0, 7, 5, 17, 18, 5], [2, 17, 8, 1, 2, 2, 0, 14, 0, 8, 7, 8, 3, 19, 5, 11, 9, 2, 5, 5], [8, 16, 5, 8, 9, 14, 10, 15, 15, 3, 0, 9, 12, 10, 13, 6, 8, 3, 8, 16], [6, 19, 13, 0, 7, 0, 12, 4, 1, 5, 14, 16, 13, 17, 7, 16, 14, 7, 16, 0], [12, 18, 10, 13, 1, 9, 4, 6, 1, 9, 2, 2, 9, 9, 5, 13, 18, 8, 4, 0]]\n"
     ]
    }
   ],
   "execution_count": 8
  },
  {
   "metadata": {
    "ExecuteTime": {
     "end_time": "2024-12-12T21:11:06.906359Z",
     "start_time": "2024-12-12T21:11:06.891311Z"
    }
   },
   "cell_type": "code",
   "source": [
    "from terminator import MyTermination\n",
    "\n",
    "# instantiate problem, callback, mutation, sampling, crossover and survival\n",
    "problem = MyProblem(\n",
    "    trace_length=trace_length,\n",
    "    encoder=encoder,\n",
    "    d4py=declare,\n",
    "    initial_population=initial_encoded_pop,\n",
    "    xl=lower_bounds,xu=upper_bounds,\n",
    "    event_log=event_log,\n",
    "    dataframe=dataframe\n",
    ")\n",
    "\n",
    "callback = UpdatePopulationCallback(problem)\n",
    "mutation = MyMutation(features_range)\n",
    "crossover = TraceCrossover(variable_boundaries=variable_boundaries)\n",
    "sampling = MySampling(initial_encoded_pop)\n",
    "survival = MySurvival(n_children_survive=50)\n",
    "\n",
    "algorithm = NSGA2(\n",
    "    pop_size=500,\n",
    "    sampling=sampling,\n",
    "    crossover=crossover,\n",
    "    mutation=mutation,\n",
    "    callback=callback,\n",
    "    eliminate_duplicates=False,\n",
    ")\n",
    "\n",
    "termination = MyTermination(50)\n",
    "# TODO check if we can set a pop final size as a terminator param\n",
    "result = minimize(problem, algorithm, termination=termination, seed=1, verbose=True)\n",
    "\n",
    "traces = [individual.X.tolist() for individual in result.pop]\n",
    "\n",
    "for i, trace in enumerate(traces):\n",
    "    print(f\"Trace {i + 1}: {trace}\")\n",
    "\n",
    "print(\"Best Solution Encoded:\", result.X)\n",
    "print(\"Best Solution Decoded:\", [encoder.decode(solution) for solution in result.X])\n",
    "print(\"Objective Values:\", result.F)"
   ],
   "id": "b58051d2a6c5944f",
   "outputs": [
    {
     "name": "stdout",
     "output_type": "stream",
     "text": [
      "==========================================================================================\n",
      "n_gen  |  n_eval  | n_nds  |     cv_min    |     cv_avg    |      eps      |   indicator  \n",
      "==========================================================================================\n",
      "     1 |       10 |      1 |  0.000000E+00 |  0.7000000000 |             - |             -\n",
      "Trace 1: [8, 16, 5, 8, 9, 14, 10, 15, 15, 3, 0, 9, 12, 10, 13, 6, 8, 3, 8, 16]\n",
      "Trace 2: [0, 15, 1, 9, 19, 18, 18, 12, 5, 5, 16, 7, 0, 6, 17, 17, 7, 12, 16, 11]\n",
      "Trace 3: [16, 13, 15, 11, 13, 11, 0, 17, 17, 19, 19, 10, 14, 19, 0, 7, 5, 17, 18, 5]\n",
      "Trace 4: [18, 3, 10, 0, 0, 0, 17, 0, 12, 6, 13, 0, 16, 7, 14, 15, 17, 7, 11, 7]\n",
      "Trace 5: [7, 14, 9, 0, 13, 17, 3, 5, 9, 3, 10, 16, 13, 16, 6, 9, 9, 18, 15, 16]\n",
      "Trace 6: [6, 19, 13, 0, 7, 0, 12, 4, 1, 5, 14, 16, 13, 17, 7, 16, 14, 7, 16, 0]\n",
      "Trace 7: [18, 11, 14, 8, 17, 19, 0, 12, 16, 4, 16, 17, 6, 13, 1, 15, 11, 18, 17, 6]\n",
      "Trace 8: [12, 18, 1, 15, 7, 12, 13, 5, 11, 17, 11, 2, 14, 16, 3, 5, 16, 12, 11, 15]\n",
      "Trace 9: [2, 17, 8, 1, 2, 2, 0, 14, 0, 8, 7, 8, 3, 19, 5, 11, 9, 2, 5, 5]\n",
      "Trace 10: [12, 18, 10, 13, 1, 9, 4, 6, 1, 9, 2, 2, 9, 9, 5, 13, 18, 8, 4, 0]\n",
      "Best Solution Encoded: [[ 8 16  5  8  9 14 10 15 15  3  0  9 12 10 13  6  8  3  8 16]]\n",
      "Best Solution Decoded: [['I', 'Q', 'F', 'I', 'J', 'O', 'K', 'P', 'P', 'D', 'A', 'J', 'M', 'K', 'N', 'G', 'I', 'D', 'I', 'Q']]\n",
      "Objective Values: [[  0.  -17.7]]\n"
     ]
    }
   ],
   "execution_count": 9
  }
 ],
 "metadata": {
  "kernelspec": {
   "display_name": "Python 3 (ipykernel)",
   "language": "python",
   "name": "python3"
  },
  "language_info": {
   "codemirror_mode": {
    "name": "ipython",
    "version": 3
   },
   "file_extension": ".py",
   "mimetype": "text/x-python",
   "name": "python",
   "nbconvert_exporter": "python",
   "pygments_lexer": "ipython3",
   "version": "3.12.7"
  }
 },
 "nbformat": 4,
 "nbformat_minor": 5
}

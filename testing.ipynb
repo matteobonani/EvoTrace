{
 "cells": [
  {
   "cell_type": "code",
   "id": "1b82ed56-8e60-4026-9f58-bf1b51e2983d",
   "metadata": {
    "ExecuteTime": {
     "end_time": "2024-11-27T18:48:49.756306Z",
     "start_time": "2024-11-27T18:48:48.630768Z"
    }
   },
   "source": [
    "from pymoo.algorithms.moo.nsga2 import NSGA2\n",
    "from pymoo.operators.sampling.rnd import FloatRandomSampling\n",
    "from pymoo.optimize import minimize\n",
    "import random\n",
    "from pymoo.operators.selection.tournament import TournamentSelection\n",
    "from problem import MyProblem\n",
    "from mutation import MyMutation\n",
    "from crossover import TraceCrossover\n",
    "from mock_tools import MockEncoder, MockDeclare4Py\n",
    "from sampling import MySampling\n",
    "from callback import UpdatePopulationCallback\n",
    "from growingGA import GrowingPopulationNSGA2\n",
    "import numpy as np\n",
    "from tools import Tools\n",
    "\n",
    "# n_events = 5-10-15-20\n",
    "# n_activities = 5-10-15-20-25-30\n",
    "\n",
    "events = [\"A\", \"B\", \"C\", \"D\"]\n",
    "encoder = MockEncoder(events)\n",
    "d4py = MockDeclare4Py()\n",
    "\n",
    "population_size = 10\n",
    "trace_length = 5\n",
    "initial_population = [\n",
    "    [random.randint(0, len(events) - 1) for _ in range(trace_length)]\n",
    "    for _ in range(population_size)\n",
    "]\n",
    "\n",
    "variable_boundaries = [1,1,1,1,1]\n",
    "\n",
    "# instantiate problem, mutation, and crossover\n",
    "problem = MyProblem(trace_length, encoder, d4py, initial_population)\n",
    "callback = UpdatePopulationCallback(problem)\n",
    "mutation = MyMutation(Tools.calculate_feature_range(initial_population, variable_boundaries))\n",
    "crossover = TraceCrossover(variable_boundaries=variable_boundaries)\n",
    "sampling = MySampling(initial_population)\n",
    "\n",
    "\n",
    "# algorithm = NSGA2(\n",
    "#     pop_size=10,\n",
    "#     sampling=sampling,\n",
    "#     crossover=crossover,\n",
    "#     mutation=mutation,\n",
    "#     callback=callback,\n",
    "#     eliminate_duplicates=True,\n",
    "# )\n",
    "\n",
    "algorithm = GrowingPopulationNSGA2(\n",
    "    pop_size=10,\n",
    "    sampling=sampling,\n",
    "    crossover=crossover,\n",
    "    mutation=mutation,\n",
    "    callback=callback,\n",
    "    growth_rate=50,\n",
    "    max_pop_size=500,\n",
    "    eliminate_duplicates=True,\n",
    ")\n",
    "\n",
    "result = minimize(problem, algorithm, termination=('n_gen', 5), seed=1, verbose=True)\n",
    "\n",
    "print(\"Best Solution Encoded:\", result.X)\n",
    "print(\"Best Solution Decoded:\", [encoder.decode(solution) for solution in result.X])\n",
    "print(\"Objective Values:\", result.F)\n"
   ],
   "outputs": [
    {
     "name": "stdout",
     "output_type": "stream",
     "text": [
      "==========================================================\n",
      "n_gen  |  n_eval  | n_nds  |      eps      |   indicator  \n",
      "==========================================================\n",
      "     1 |       10 |      2 |             - |             -\n",
      "Adding 50 individuals\n",
      "Current Population Size: 20\n"
     ]
    },
    {
     "ename": "TypeError",
     "evalue": "'>' not supported between instances of 'float' and 'NoneType'",
     "output_type": "error",
     "traceback": [
      "\u001B[1;31m---------------------------------------------------------------------------\u001B[0m",
      "\u001B[1;31mTypeError\u001B[0m                                 Traceback (most recent call last)",
      "Cell \u001B[1;32mIn[1], line 59\u001B[0m\n\u001B[0;32m     39\u001B[0m \u001B[38;5;66;03m# algorithm = NSGA2(\u001B[39;00m\n\u001B[0;32m     40\u001B[0m \u001B[38;5;66;03m#     pop_size=10,\u001B[39;00m\n\u001B[0;32m     41\u001B[0m \u001B[38;5;66;03m#     sampling=sampling,\u001B[39;00m\n\u001B[1;32m   (...)\u001B[0m\n\u001B[0;32m     45\u001B[0m \u001B[38;5;66;03m#     eliminate_duplicates=True,\u001B[39;00m\n\u001B[0;32m     46\u001B[0m \u001B[38;5;66;03m# )\u001B[39;00m\n\u001B[0;32m     48\u001B[0m algorithm \u001B[38;5;241m=\u001B[39m GrowingPopulationNSGA2(\n\u001B[0;32m     49\u001B[0m     pop_size\u001B[38;5;241m=\u001B[39m\u001B[38;5;241m10\u001B[39m,\n\u001B[0;32m     50\u001B[0m     sampling\u001B[38;5;241m=\u001B[39msampling,\n\u001B[1;32m   (...)\u001B[0m\n\u001B[0;32m     56\u001B[0m     eliminate_duplicates\u001B[38;5;241m=\u001B[39m\u001B[38;5;28;01mTrue\u001B[39;00m,\n\u001B[0;32m     57\u001B[0m )\n\u001B[1;32m---> 59\u001B[0m result \u001B[38;5;241m=\u001B[39m \u001B[43mminimize\u001B[49m\u001B[43m(\u001B[49m\u001B[43mproblem\u001B[49m\u001B[43m,\u001B[49m\u001B[43m \u001B[49m\u001B[43malgorithm\u001B[49m\u001B[43m,\u001B[49m\u001B[43m \u001B[49m\u001B[43mtermination\u001B[49m\u001B[38;5;241;43m=\u001B[39;49m\u001B[43m(\u001B[49m\u001B[38;5;124;43m'\u001B[39;49m\u001B[38;5;124;43mn_gen\u001B[39;49m\u001B[38;5;124;43m'\u001B[39;49m\u001B[43m,\u001B[49m\u001B[43m \u001B[49m\u001B[38;5;241;43m5\u001B[39;49m\u001B[43m)\u001B[49m\u001B[43m,\u001B[49m\u001B[43m \u001B[49m\u001B[43mseed\u001B[49m\u001B[38;5;241;43m=\u001B[39;49m\u001B[38;5;241;43m1\u001B[39;49m\u001B[43m,\u001B[49m\u001B[43m \u001B[49m\u001B[43mverbose\u001B[49m\u001B[38;5;241;43m=\u001B[39;49m\u001B[38;5;28;43;01mTrue\u001B[39;49;00m\u001B[43m)\u001B[49m\n\u001B[0;32m     61\u001B[0m \u001B[38;5;28mprint\u001B[39m(\u001B[38;5;124m\"\u001B[39m\u001B[38;5;124mBest Solution Encoded:\u001B[39m\u001B[38;5;124m\"\u001B[39m, result\u001B[38;5;241m.\u001B[39mX)\n\u001B[0;32m     62\u001B[0m \u001B[38;5;28mprint\u001B[39m(\u001B[38;5;124m\"\u001B[39m\u001B[38;5;124mBest Solution Decoded:\u001B[39m\u001B[38;5;124m\"\u001B[39m, [encoder\u001B[38;5;241m.\u001B[39mdecode(solution) \u001B[38;5;28;01mfor\u001B[39;00m solution \u001B[38;5;129;01min\u001B[39;00m result\u001B[38;5;241m.\u001B[39mX])\n",
      "File \u001B[1;32m~\\anaconda3\\envs\\myenv\\lib\\site-packages\\pymoo\\optimize.py:67\u001B[0m, in \u001B[0;36mminimize\u001B[1;34m(problem, algorithm, termination, copy_algorithm, copy_termination, **kwargs)\u001B[0m\n\u001B[0;32m     64\u001B[0m     algorithm\u001B[38;5;241m.\u001B[39msetup(problem, \u001B[38;5;241m*\u001B[39m\u001B[38;5;241m*\u001B[39mkwargs)\n\u001B[0;32m     66\u001B[0m \u001B[38;5;66;03m# actually execute the algorithm\u001B[39;00m\n\u001B[1;32m---> 67\u001B[0m res \u001B[38;5;241m=\u001B[39m \u001B[43malgorithm\u001B[49m\u001B[38;5;241;43m.\u001B[39;49m\u001B[43mrun\u001B[49m\u001B[43m(\u001B[49m\u001B[43m)\u001B[49m\n\u001B[0;32m     69\u001B[0m \u001B[38;5;66;03m# store the deep copied algorithm in the result object\u001B[39;00m\n\u001B[0;32m     70\u001B[0m res\u001B[38;5;241m.\u001B[39malgorithm \u001B[38;5;241m=\u001B[39m algorithm\n",
      "File \u001B[1;32m~\\anaconda3\\envs\\myenv\\lib\\site-packages\\pymoo\\core\\algorithm.py:138\u001B[0m, in \u001B[0;36mAlgorithm.run\u001B[1;34m(self)\u001B[0m\n\u001B[0;32m    136\u001B[0m \u001B[38;5;28;01mdef\u001B[39;00m \u001B[38;5;21mrun\u001B[39m(\u001B[38;5;28mself\u001B[39m):\n\u001B[0;32m    137\u001B[0m     \u001B[38;5;28;01mwhile\u001B[39;00m \u001B[38;5;28mself\u001B[39m\u001B[38;5;241m.\u001B[39mhas_next():\n\u001B[1;32m--> 138\u001B[0m         \u001B[38;5;28;43mself\u001B[39;49m\u001B[38;5;241;43m.\u001B[39;49m\u001B[43mnext\u001B[49m\u001B[43m(\u001B[49m\u001B[43m)\u001B[49m\n\u001B[0;32m    139\u001B[0m     \u001B[38;5;28;01mreturn\u001B[39;00m \u001B[38;5;28mself\u001B[39m\u001B[38;5;241m.\u001B[39mresult()\n",
      "File \u001B[1;32m~\\anaconda3\\envs\\myenv\\lib\\site-packages\\pymoo\\core\\algorithm.py:154\u001B[0m, in \u001B[0;36mAlgorithm.next\u001B[1;34m(self)\u001B[0m\n\u001B[0;32m    151\u001B[0m \u001B[38;5;28;01mdef\u001B[39;00m \u001B[38;5;21mnext\u001B[39m(\u001B[38;5;28mself\u001B[39m):\n\u001B[0;32m    152\u001B[0m \n\u001B[0;32m    153\u001B[0m     \u001B[38;5;66;03m# get the infill solutions\u001B[39;00m\n\u001B[1;32m--> 154\u001B[0m     infills \u001B[38;5;241m=\u001B[39m \u001B[38;5;28;43mself\u001B[39;49m\u001B[38;5;241;43m.\u001B[39;49m\u001B[43minfill\u001B[49m\u001B[43m(\u001B[49m\u001B[43m)\u001B[49m\n\u001B[0;32m    156\u001B[0m     \u001B[38;5;66;03m# call the advance with them after evaluation\u001B[39;00m\n\u001B[0;32m    157\u001B[0m     \u001B[38;5;28;01mif\u001B[39;00m infills \u001B[38;5;129;01mis\u001B[39;00m \u001B[38;5;129;01mnot\u001B[39;00m \u001B[38;5;28;01mNone\u001B[39;00m:\n",
      "File \u001B[1;32m~\\anaconda3\\envs\\myenv\\lib\\site-packages\\pymoo\\core\\algorithm.py:190\u001B[0m, in \u001B[0;36mAlgorithm.infill\u001B[1;34m(self)\u001B[0m\n\u001B[0;32m    186\u001B[0m     infills \u001B[38;5;241m=\u001B[39m \u001B[38;5;28mself\u001B[39m\u001B[38;5;241m.\u001B[39m_initialize_infill()\n\u001B[0;32m    188\u001B[0m \u001B[38;5;28;01melse\u001B[39;00m:\n\u001B[0;32m    189\u001B[0m     \u001B[38;5;66;03m# request the infill solutions if the algorithm has implemented it\u001B[39;00m\n\u001B[1;32m--> 190\u001B[0m     infills \u001B[38;5;241m=\u001B[39m \u001B[38;5;28;43mself\u001B[39;49m\u001B[38;5;241;43m.\u001B[39;49m\u001B[43m_infill\u001B[49m\u001B[43m(\u001B[49m\u001B[43m)\u001B[49m\n\u001B[0;32m    192\u001B[0m \u001B[38;5;66;03m# set the current generation to the offsprings\u001B[39;00m\n\u001B[0;32m    193\u001B[0m \u001B[38;5;28;01mif\u001B[39;00m infills \u001B[38;5;129;01mis\u001B[39;00m \u001B[38;5;129;01mnot\u001B[39;00m \u001B[38;5;28;01mNone\u001B[39;00m:\n",
      "File \u001B[1;32m~\\anaconda3\\envs\\myenv\\lib\\site-packages\\pymoo\\algorithms\\base\\genetic.py:85\u001B[0m, in \u001B[0;36mGeneticAlgorithm._infill\u001B[1;34m(self)\u001B[0m\n\u001B[0;32m     82\u001B[0m \u001B[38;5;28;01mdef\u001B[39;00m \u001B[38;5;21m_infill\u001B[39m(\u001B[38;5;28mself\u001B[39m):\n\u001B[0;32m     83\u001B[0m \n\u001B[0;32m     84\u001B[0m     \u001B[38;5;66;03m# do the mating using the current population\u001B[39;00m\n\u001B[1;32m---> 85\u001B[0m     off \u001B[38;5;241m=\u001B[39m \u001B[38;5;28;43mself\u001B[39;49m\u001B[38;5;241;43m.\u001B[39;49m\u001B[43mmating\u001B[49m\u001B[38;5;241;43m.\u001B[39;49m\u001B[43mdo\u001B[49m\u001B[43m(\u001B[49m\u001B[38;5;28;43mself\u001B[39;49m\u001B[38;5;241;43m.\u001B[39;49m\u001B[43mproblem\u001B[49m\u001B[43m,\u001B[49m\u001B[43m \u001B[49m\u001B[38;5;28;43mself\u001B[39;49m\u001B[38;5;241;43m.\u001B[39;49m\u001B[43mpop\u001B[49m\u001B[43m,\u001B[49m\u001B[43m \u001B[49m\u001B[38;5;28;43mself\u001B[39;49m\u001B[38;5;241;43m.\u001B[39;49m\u001B[43mn_offsprings\u001B[49m\u001B[43m,\u001B[49m\u001B[43m \u001B[49m\u001B[43malgorithm\u001B[49m\u001B[38;5;241;43m=\u001B[39;49m\u001B[38;5;28;43mself\u001B[39;49m\u001B[43m)\u001B[49m\n\u001B[0;32m     87\u001B[0m     \u001B[38;5;66;03m# if the mating could not generate any new offspring (duplicate elimination might make that happen)\u001B[39;00m\n\u001B[0;32m     88\u001B[0m     \u001B[38;5;28;01mif\u001B[39;00m \u001B[38;5;28mlen\u001B[39m(off) \u001B[38;5;241m==\u001B[39m \u001B[38;5;241m0\u001B[39m:\n",
      "File \u001B[1;32m~\\anaconda3\\envs\\myenv\\lib\\site-packages\\pymoo\\core\\infill.py:38\u001B[0m, in \u001B[0;36mInfillCriterion.do\u001B[1;34m(self, problem, pop, n_offsprings, **kwargs)\u001B[0m\n\u001B[0;32m     35\u001B[0m n_remaining \u001B[38;5;241m=\u001B[39m n_offsprings \u001B[38;5;241m-\u001B[39m \u001B[38;5;28mlen\u001B[39m(off)\n\u001B[0;32m     37\u001B[0m \u001B[38;5;66;03m# do the mating\u001B[39;00m\n\u001B[1;32m---> 38\u001B[0m _off \u001B[38;5;241m=\u001B[39m \u001B[38;5;28mself\u001B[39m\u001B[38;5;241m.\u001B[39m_do(problem, pop, n_remaining, \u001B[38;5;241m*\u001B[39m\u001B[38;5;241m*\u001B[39mkwargs)\n\u001B[0;32m     40\u001B[0m \u001B[38;5;66;03m# repair the individuals if necessary - disabled if repair is NoRepair\u001B[39;00m\n\u001B[0;32m     41\u001B[0m _off \u001B[38;5;241m=\u001B[39m \u001B[38;5;28mself\u001B[39m\u001B[38;5;241m.\u001B[39mrepair(problem, _off, \u001B[38;5;241m*\u001B[39m\u001B[38;5;241m*\u001B[39mkwargs)\n",
      "File \u001B[1;32m~\\anaconda3\\envs\\myenv\\lib\\site-packages\\pymoo\\core\\mating.py:28\u001B[0m, in \u001B[0;36mMating._do\u001B[1;34m(self, problem, pop, n_offsprings, parents, **kwargs)\u001B[0m\n\u001B[0;32m     24\u001B[0m \u001B[38;5;66;03m# if the parents for the mating are not provided directly - usually selection will be used\u001B[39;00m\n\u001B[0;32m     25\u001B[0m \u001B[38;5;28;01mif\u001B[39;00m parents \u001B[38;5;129;01mis\u001B[39;00m \u001B[38;5;28;01mNone\u001B[39;00m:\n\u001B[0;32m     26\u001B[0m \n\u001B[0;32m     27\u001B[0m     \u001B[38;5;66;03m# select the parents for the mating - just an index array\u001B[39;00m\n\u001B[1;32m---> 28\u001B[0m     parents \u001B[38;5;241m=\u001B[39m \u001B[38;5;28mself\u001B[39m\u001B[38;5;241m.\u001B[39mselection(problem, pop, n_matings, n_parents\u001B[38;5;241m=\u001B[39m\u001B[38;5;28mself\u001B[39m\u001B[38;5;241m.\u001B[39mcrossover\u001B[38;5;241m.\u001B[39mn_parents, \u001B[38;5;241m*\u001B[39m\u001B[38;5;241m*\u001B[39mkwargs)\n\u001B[0;32m     30\u001B[0m \u001B[38;5;66;03m# do the crossover using the parents index and the population - additional data provided if necessary\u001B[39;00m\n\u001B[0;32m     31\u001B[0m off \u001B[38;5;241m=\u001B[39m \u001B[38;5;28mself\u001B[39m\u001B[38;5;241m.\u001B[39mcrossover(problem, parents, \u001B[38;5;241m*\u001B[39m\u001B[38;5;241m*\u001B[39mkwargs)\n",
      "File \u001B[1;32m~\\anaconda3\\envs\\myenv\\lib\\site-packages\\pymoo\\core\\operator.py:27\u001B[0m, in \u001B[0;36mOperator.__call__\u001B[1;34m(self, problem, elem, to_numpy, *args, **kwargs)\u001B[0m\n\u001B[0;32m     26\u001B[0m \u001B[38;5;28;01mdef\u001B[39;00m \u001B[38;5;21m__call__\u001B[39m(\u001B[38;5;28mself\u001B[39m, problem, elem, \u001B[38;5;241m*\u001B[39margs, to_numpy\u001B[38;5;241m=\u001B[39m\u001B[38;5;28;01mFalse\u001B[39;00m, \u001B[38;5;241m*\u001B[39m\u001B[38;5;241m*\u001B[39mkwargs):\n\u001B[1;32m---> 27\u001B[0m     out \u001B[38;5;241m=\u001B[39m \u001B[38;5;28mself\u001B[39m\u001B[38;5;241m.\u001B[39mdo(problem, elem, \u001B[38;5;241m*\u001B[39margs, \u001B[38;5;241m*\u001B[39m\u001B[38;5;241m*\u001B[39mkwargs)\n\u001B[0;32m     29\u001B[0m     \u001B[38;5;28;01mif\u001B[39;00m \u001B[38;5;28mself\u001B[39m\u001B[38;5;241m.\u001B[39mvtype \u001B[38;5;129;01mis\u001B[39;00m \u001B[38;5;129;01mnot\u001B[39;00m \u001B[38;5;28;01mNone\u001B[39;00m:\n\u001B[0;32m     30\u001B[0m         \u001B[38;5;28;01mfor\u001B[39;00m ind \u001B[38;5;129;01min\u001B[39;00m out:\n",
      "File \u001B[1;32m~\\anaconda3\\envs\\myenv\\lib\\site-packages\\pymoo\\core\\selection.py:49\u001B[0m, in \u001B[0;36mSelection.do\u001B[1;34m(self, problem, pop, n_select, n_parents, to_pop, **kwargs)\u001B[0m\n\u001B[0;32m     17\u001B[0m \u001B[38;5;28;01mdef\u001B[39;00m \u001B[38;5;21mdo\u001B[39m(\u001B[38;5;28mself\u001B[39m, problem, pop, n_select, n_parents, to_pop\u001B[38;5;241m=\u001B[39m\u001B[38;5;28;01mTrue\u001B[39;00m, \u001B[38;5;241m*\u001B[39m\u001B[38;5;241m*\u001B[39mkwargs):\n\u001B[0;32m     18\u001B[0m \u001B[38;5;250m    \u001B[39m\u001B[38;5;124;03m\"\"\"\u001B[39;00m\n\u001B[0;32m     19\u001B[0m \u001B[38;5;124;03m    Choose from the population new individuals to be selected.\u001B[39;00m\n\u001B[0;32m     20\u001B[0m \n\u001B[1;32m   (...)\u001B[0m\n\u001B[0;32m     46\u001B[0m \n\u001B[0;32m     47\u001B[0m \u001B[38;5;124;03m    \"\"\"\u001B[39;00m\n\u001B[1;32m---> 49\u001B[0m     ret \u001B[38;5;241m=\u001B[39m \u001B[38;5;28mself\u001B[39m\u001B[38;5;241m.\u001B[39m_do(problem, pop, n_select, n_parents, \u001B[38;5;241m*\u001B[39m\u001B[38;5;241m*\u001B[39mkwargs)\n\u001B[0;32m     51\u001B[0m     \u001B[38;5;66;03m# if some selections return indices they are used to create the individual list\u001B[39;00m\n\u001B[0;32m     52\u001B[0m     \u001B[38;5;28;01mif\u001B[39;00m to_pop \u001B[38;5;129;01mand\u001B[39;00m \u001B[38;5;28misinstance\u001B[39m(ret, np\u001B[38;5;241m.\u001B[39mndarray) \u001B[38;5;129;01mand\u001B[39;00m np\u001B[38;5;241m.\u001B[39missubdtype(ret\u001B[38;5;241m.\u001B[39mdtype, np\u001B[38;5;241m.\u001B[39minteger):\n",
      "File \u001B[1;32m~\\anaconda3\\envs\\myenv\\lib\\site-packages\\pymoo\\operators\\selection\\tournament.py:49\u001B[0m, in \u001B[0;36mTournamentSelection._do\u001B[1;34m(self, _, pop, n_select, n_parents, **kwargs)\u001B[0m\n\u001B[0;32m     46\u001B[0m P \u001B[38;5;241m=\u001B[39m np\u001B[38;5;241m.\u001B[39mreshape(P, (n_select \u001B[38;5;241m*\u001B[39m n_parents, \u001B[38;5;28mself\u001B[39m\u001B[38;5;241m.\u001B[39mpressure))\n\u001B[0;32m     48\u001B[0m \u001B[38;5;66;03m# compare using tournament function\u001B[39;00m\n\u001B[1;32m---> 49\u001B[0m S \u001B[38;5;241m=\u001B[39m \u001B[38;5;28mself\u001B[39m\u001B[38;5;241m.\u001B[39mfunc_comp(pop, P, \u001B[38;5;241m*\u001B[39m\u001B[38;5;241m*\u001B[39mkwargs)\n\u001B[0;32m     51\u001B[0m \u001B[38;5;28;01mreturn\u001B[39;00m np\u001B[38;5;241m.\u001B[39mreshape(S, (n_select, n_parents))\n",
      "File \u001B[1;32m~\\anaconda3\\envs\\myenv\\lib\\site-packages\\pymoo\\algorithms\\moo\\nsga2.py:60\u001B[0m, in \u001B[0;36mbinary_tournament\u001B[1;34m(pop, P, algorithm, **kwargs)\u001B[0m\n\u001B[0;32m     58\u001B[0m         \u001B[38;5;66;03m# if rank or domination relation didn't make a decision compare by crowding\u001B[39;00m\n\u001B[0;32m     59\u001B[0m         \u001B[38;5;28;01mif\u001B[39;00m np\u001B[38;5;241m.\u001B[39misnan(S[i]):\n\u001B[1;32m---> 60\u001B[0m             S[i] \u001B[38;5;241m=\u001B[39m \u001B[43mcompare\u001B[49m\u001B[43m(\u001B[49m\u001B[43ma\u001B[49m\u001B[43m,\u001B[49m\u001B[43m \u001B[49m\u001B[43mcd_a\u001B[49m\u001B[43m,\u001B[49m\u001B[43m \u001B[49m\u001B[43mb\u001B[49m\u001B[43m,\u001B[49m\u001B[43m \u001B[49m\u001B[43mcd_b\u001B[49m\u001B[43m,\u001B[49m\u001B[43m \u001B[49m\u001B[43mmethod\u001B[49m\u001B[38;5;241;43m=\u001B[39;49m\u001B[38;5;124;43m'\u001B[39;49m\u001B[38;5;124;43mlarger_is_better\u001B[39;49m\u001B[38;5;124;43m'\u001B[39;49m\u001B[43m,\u001B[49m\u001B[43m \u001B[49m\u001B[43mreturn_random_if_equal\u001B[49m\u001B[38;5;241;43m=\u001B[39;49m\u001B[38;5;28;43;01mTrue\u001B[39;49;00m\u001B[43m)\u001B[49m\n\u001B[0;32m     62\u001B[0m \u001B[38;5;28;01mreturn\u001B[39;00m S[:, \u001B[38;5;28;01mNone\u001B[39;00m]\u001B[38;5;241m.\u001B[39mastype(\u001B[38;5;28mint\u001B[39m, copy\u001B[38;5;241m=\u001B[39m\u001B[38;5;28;01mFalse\u001B[39;00m)\n",
      "File \u001B[1;32m~\\anaconda3\\envs\\myenv\\lib\\site-packages\\pymoo\\operators\\selection\\tournament.py:56\u001B[0m, in \u001B[0;36mcompare\u001B[1;34m(a, a_val, b, b_val, method, return_random_if_equal)\u001B[0m\n\u001B[0;32m     54\u001B[0m \u001B[38;5;28;01mdef\u001B[39;00m \u001B[38;5;21mcompare\u001B[39m(a, a_val, b, b_val, method, return_random_if_equal\u001B[38;5;241m=\u001B[39m\u001B[38;5;28;01mFalse\u001B[39;00m):\n\u001B[0;32m     55\u001B[0m     \u001B[38;5;28;01mif\u001B[39;00m method \u001B[38;5;241m==\u001B[39m \u001B[38;5;124m'\u001B[39m\u001B[38;5;124mlarger_is_better\u001B[39m\u001B[38;5;124m'\u001B[39m:\n\u001B[1;32m---> 56\u001B[0m         \u001B[38;5;28;01mif\u001B[39;00m \u001B[43ma_val\u001B[49m\u001B[43m \u001B[49m\u001B[38;5;241;43m>\u001B[39;49m\u001B[43m \u001B[49m\u001B[43mb_val\u001B[49m:\n\u001B[0;32m     57\u001B[0m             \u001B[38;5;28;01mreturn\u001B[39;00m a\n\u001B[0;32m     58\u001B[0m         \u001B[38;5;28;01melif\u001B[39;00m a_val \u001B[38;5;241m<\u001B[39m b_val:\n",
      "\u001B[1;31mTypeError\u001B[0m: '>' not supported between instances of 'float' and 'NoneType'"
     ]
    }
   ],
   "execution_count": 1
  },
  {
   "metadata": {
    "ExecuteTime": {
     "end_time": "2024-11-27T18:48:49.777853700Z",
     "start_time": "2024-11-27T18:23:12.802739Z"
    }
   },
   "cell_type": "code",
   "source": "",
   "id": "88de3206fe3d37c8",
   "outputs": [],
   "execution_count": null
  }
 ],
 "metadata": {
  "kernelspec": {
   "display_name": "Python 3 (ipykernel)",
   "language": "python",
   "name": "python3"
  },
  "language_info": {
   "codemirror_mode": {
    "name": "ipython",
    "version": 3
   },
   "file_extension": ".py",
   "mimetype": "text/x-python",
   "name": "python",
   "nbconvert_exporter": "python",
   "pygments_lexer": "ipython3",
   "version": "3.12.7"
  }
 },
 "nbformat": 4,
 "nbformat_minor": 5
}

{
 "cells": [
  {
   "cell_type": "code",
   "execution_count": null,
   "id": "1b82ed56-8e60-4026-9f58-bf1b51e2983d",
   "metadata": {},
   "outputs": [],
   "source": [
    "# Generate mock data\n",
    "events = [\"A\", \"B\", \"C\", \"D\"]  # Mock events\n",
    "encoder = MockEncoder(events)\n",
    "d4py = MockDeclare4Py()\n",
    "\n",
    "# Mock population\n",
    "trace_length = 5\n",
    "initial_population = [\n",
    "    [random.randint(0, len(events) - 1) for _ in range(trace_length)] for _ in range(10)\n",
    "]\n",
    "\n",
    "# Define variable boundaries (start and end points of events in the trace)\n",
    "variable_boundaries = list(range(trace_length + 1))\n",
    "\n",
    "# Instantiate problem, mutation, and crossover\n",
    "problem = MyProblem(trace_length, encoder, d4py, initial_population)\n",
    "mutation = MyMutation(feature_range=[(0, len(events) - 1) for _ in range(trace_length)])\n",
    "crossover = TraceCrossover(variable_boundaries=variable_boundaries)\n",
    "\n",
    "# Define algorithm\n",
    "algorithm = GA(\n",
    "    pop_size=10,\n",
    "    sampling=FloatRandomSampling(),\n",
    "    crossover=crossover,\n",
    "    mutation=mutation,\n",
    "    eliminate_duplicates=True,\n",
    ")\n",
    "\n",
    "# Run optimization\n",
    "result = minimize(problem, algorithm, termination=('n_gen', 5), seed=1, verbose=True)\n",
    "\n",
    "# Print results\n",
    "print(\"Best Solution Encoded:\", result.X)\n",
    "print(\"Best Solution Decoded:\", [encoder.decode(solution) for solution in result.X])\n",
    "print(\"Objective Values:\", result.F)"
   ]
  }
 ],
 "metadata": {
  "kernelspec": {
   "display_name": "Python 3 (ipykernel)",
   "language": "python",
   "name": "python3"
  },
  "language_info": {
   "codemirror_mode": {
    "name": "ipython",
    "version": 3
   },
   "file_extension": ".py",
   "mimetype": "text/x-python",
   "name": "python",
   "nbconvert_exporter": "python",
   "pygments_lexer": "ipython3",
   "version": "3.12.7"
  }
 },
 "nbformat": 4,
 "nbformat_minor": 5
}

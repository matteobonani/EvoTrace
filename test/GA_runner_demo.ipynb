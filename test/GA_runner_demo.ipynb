{
 "cells": [
  {
   "cell_type": "code",
   "id": "initial_id",
   "metadata": {
    "collapsed": true,
    "ExecuteTime": {
     "end_time": "2025-07-31T14:53:20.235591Z",
     "start_time": "2025-07-31T14:53:20.223593Z"
    }
   },
   "source": [
    "# imports\n",
    "\n",
    "import warnings\n",
    "import logging\n",
    "import itertools\n",
    "import os\n",
    "from datetime import datetime\n",
    "\n",
    "from ga_objects.problems.multi_objective_problems import ProblemMulti\n",
    "from ga_objects.utils.problemSetup import ProblemSetup\n",
    "from ga_objects.problems.single_objective_problems import ProblemSingle\n",
    "from ga_objects.operators.mutation import IntegerPolynomialMutation\n",
    "from ga_objects.operators.terminator import DiversityTermination\n",
    "from pymoo.operators.crossover.pntx import TwoPointCrossover\n",
    "\n",
    "# silence warnings and logs\n",
    "logging.getLogger('matplotlib').setLevel(logging.WARNING)\n",
    "warnings.filterwarnings(\"ignore\", \".*feasible.*\")\n"
   ],
   "outputs": [],
   "execution_count": 6
  },
  {
   "metadata": {
    "ExecuteTime": {
     "end_time": "2025-07-31T14:53:20.250716Z",
     "start_time": "2025-07-31T14:53:20.239593Z"
    }
   },
   "cell_type": "code",
   "source": [
    "# configurations\n",
    "\n",
    "# times to repeat the experiment\n",
    "num_runs = 1\n",
    "\n",
    "# parameter options (modify these as needed)\n",
    "pop_list = [4000]\n",
    "num_event_list = [90]\n",
    "declare_model_list = [\"model4.decl\"]\n",
    "mutation_list = [IntegerPolynomialMutation(prob=0.7, eta=1)]\n",
    "crossover_list = [TwoPointCrossover(prob=0.9)]\n",
    "problem_list = [ProblemMulti]\n",
    "termination_list = [DiversityTermination(0.95, 10)]\n"
   ],
   "id": "e4a1f964f7a88136",
   "outputs": [],
   "execution_count": 7
  },
  {
   "metadata": {
    "ExecuteTime": {
     "end_time": "2025-07-31T14:53:20.281721Z",
     "start_time": "2025-07-31T14:53:20.267720Z"
    }
   },
   "cell_type": "code",
   "source": [
    "# setup output directory\n",
    "\n",
    "base_dir = os.getcwd()\n",
    "current_date = datetime.today().strftime('%m-%d-%H-%M')\n",
    "directory = os.path.join(base_dir, \"results\", current_date)\n",
    "os.makedirs(directory, exist_ok=True)\n",
    "\n",
    "result_file = os.path.join(directory, \"result.csv\")\n",
    "plot_path = os.path.join(directory, \"plots\")\n",
    "solution_path = os.path.join(directory, \"encoded_traces\")\n",
    "os.makedirs(plot_path, exist_ok=True)\n",
    "os.makedirs(solution_path, exist_ok=True)\n",
    "\n",
    "# Create result file\n",
    "with open(result_file, \"w\") as f:\n",
    "    f.write(\"ID,Population,TraceLength,Model,Problem,Mutation,Termination,\"\n",
    "            \"ExecutionTime,DiversityScore,ConstraintScore,Generations,Iteration\\n\")\n"
   ],
   "id": "1708fd453e91e88d",
   "outputs": [],
   "execution_count": 8
  },
  {
   "metadata": {
    "ExecuteTime": {
     "end_time": "2025-07-31T14:53:31.027479Z",
     "start_time": "2025-07-31T14:53:20.298725Z"
    }
   },
   "cell_type": "code",
   "source": [
    "# run the optimization loop\n",
    "\n",
    "ID = 1\n",
    "for run in range(1, num_runs + 1):\n",
    "    for combination in itertools.product(pop_list, num_event_list, declare_model_list,\n",
    "                                         mutation_list, crossover_list,\n",
    "                                         problem_list, termination_list):\n",
    "        pop_size, trace_length, model, mutation, crossover, problem, termination = combination\n",
    "\n",
    "        print(f\"\\nRun {run} - ID {ID}\")\n",
    "        print(f\"Population = {pop_size}, TraceLength = {trace_length}\")\n",
    "        print(f\"Model = {model}, Problem = {problem.__name__}\")\n",
    "        print(f\"Mutation = {type(mutation).__name__}, Crossover = {type(crossover).__name__}\")\n",
    "        print(f\"Termination = {type(termination).__name__}\")\n",
    "\n",
    "        problemSetup = ProblemSetup(pop_size, trace_length, model, mutation, crossover, problem, termination)\n",
    "        with open(result_file, \"a\") as f:\n",
    "            problemSetup.run(run, ID, f, model, plot_path, solution_path)\n",
    "\n",
    "        ID += 1\n"
   ],
   "id": "5fdabbcbe54de7c0",
   "outputs": [
    {
     "name": "stdout",
     "output_type": "stream",
     "text": [
      "\n",
      "Run 1 - ID 1\n",
      "Population = 4000, TraceLength = 90\n",
      "Model = model4.decl, Problem = ProblemMulti\n",
      "Mutation = IntegerPolynomialMutation, Crossover = TwoPointCrossover\n",
      "Termination = DiversityTermination\n",
      "Execution Time (ProblemMulti): 10.46s\n"
     ]
    }
   ],
   "execution_count": 9
  },
  {
   "metadata": {
    "ExecuteTime": {
     "end_time": "2025-07-31T14:53:31.059467Z",
     "start_time": "2025-07-31T14:53:31.044465Z"
    }
   },
   "cell_type": "code",
   "source": [
    "# show where to find results\n",
    "\n",
    "print(f\"\\nAll runs completed.\")\n",
    "print(f\"Results saved to: {result_file}\")\n",
    "print(f\"Plots saved to: {plot_path}\")\n",
    "print(f\"Encoded traces saved to: {solution_path}\")\n"
   ],
   "id": "bcf57738755f5e74",
   "outputs": [
    {
     "name": "stdout",
     "output_type": "stream",
     "text": [
      "\n",
      "All runs completed.\n",
      "Results saved to: C:\\Users\\matte\\Documents\\UNI\\GA_trace_generator\\test\\results\\07-31-16-53\\result.csv\n",
      "Plots saved to: C:\\Users\\matte\\Documents\\UNI\\GA_trace_generator\\test\\results\\07-31-16-53\\plots\n",
      "Encoded traces saved to: C:\\Users\\matte\\Documents\\UNI\\GA_trace_generator\\test\\results\\07-31-16-53\\encoded_traces\n"
     ]
    }
   ],
   "execution_count": 10
  }
 ],
 "metadata": {
  "kernelspec": {
   "display_name": "Python 3",
   "language": "python",
   "name": "python3"
  },
  "language_info": {
   "codemirror_mode": {
    "name": "ipython",
    "version": 2
   },
   "file_extension": ".py",
   "mimetype": "text/x-python",
   "name": "python",
   "nbconvert_exporter": "python",
   "pygments_lexer": "ipython2",
   "version": "2.7.6"
  }
 },
 "nbformat": 4,
 "nbformat_minor": 5
}

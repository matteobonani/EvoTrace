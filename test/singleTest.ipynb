{
 "cells": [
  {
   "metadata": {
    "ExecuteTime": {
     "end_time": "2025-02-22T18:03:34.230056Z",
     "start_time": "2025-02-22T18:03:31.983463Z"
    }
   },
   "cell_type": "code",
   "source": [
    "from problem import ProblemSingleElementWise\n",
    "from pymoo.algorithms.moo.nsga2 import NSGA2\n",
    "from pymoo.optimize import minimize\n",
    "from callback import UpdatePopulationCallback\n",
    "import numpy as np\n",
    "from tools import Tools\n",
    "from survival import MySurvival\n",
    "from Declare4Py.ProcessModels.DeclareModel import DeclareModel\n",
    "from Declare4Py.D4PyEventLog import D4PyEventLog\n",
    "import warnings\n",
    "import random\n",
    "from Declare4Py.ProcessMiningTasks.ConformanceChecking.MPDeclareResultsBrowser import MPDeclareResultsBrowser\n",
    "from Declare4Py.ProcessMiningTasks.ConformanceChecking.MPDeclareAnalyzer import MPDeclareAnalyzer\n",
    "import pandas as pd\n",
    "import logging\n",
    "from terminator import MyTermination\n",
    "from pymoo.algorithms.soo.nonconvex.ga import GA\n",
    "from pymoo.termination.default import DefaultSingleObjectiveTermination, DefaultMultiObjectiveTermination\n",
    "import testSetup\n",
    "from pymoo.operators.mutation.pm import PolynomialMutation\n",
    "from pymoo.operators.crossover.sbx import SBX\n",
    "from mutation import IntegerPolynomialMutation\n",
    "from testSetup import Setup\n",
    "from pymoo.core.duplicate import ElementwiseDuplicateElimination\n",
    "\n",
    "warnings.filterwarnings(\"ignore\", \".*feasible.*\")\n",
    "logging.getLogger('matplotlib').setLevel(logging.WARNING)"
   ],
   "id": "e4d131dd8677881f",
   "outputs": [
    {
     "name": "stderr",
     "output_type": "stream",
     "text": [
      "DEBUG:matplotlib:CACHEDIR=C:\\Users\\matte\\.matplotlib\n",
      "DEBUG:matplotlib.font_manager:Using fontManager instance from C:\\Users\\matte\\.matplotlib\\fontlist-v390.json\n"
     ]
    }
   ],
   "execution_count": 1
  },
  {
   "cell_type": "code",
   "id": "initial_id",
   "metadata": {
    "collapsed": true,
    "ExecuteTime": {
     "end_time": "2025-02-22T18:03:34.658639Z",
     "start_time": "2025-02-22T18:03:34.233757Z"
    }
   },
   "source": [
    "from problem import ProblemMultiNoConstElementWise, ProblemMultiElementWise\n",
    "\n",
    "# setup population size and number of events per trace\n",
    "pop_size = 3000\n",
    "trace_length = 50\n",
    "\n",
    "\n",
    "\n",
    "# setup shared components and initial population\n",
    "(\n",
    "    encoder, declare, event_log, dataframe, activities_name\n",
    ") = Setup.initialize_shared_components(path_to_declareModel=\"../declare_models/model1.decl\", trace_length=trace_length)\n",
    "(\n",
    "    initial_population, initial_encoded_pop, lower_bounds, upper_bounds, mutation, crossover, sampling\n",
    ") = Setup.setup_initial_population(activities_name=activities_name, encoder=encoder)\n",
    "\n",
    "\n",
    "class MyDuplicateElimination(ElementwiseDuplicateElimination):\n",
    "\n",
    "    def is_equal(self, a, b):\n",
    "        return a.X[0] == b.X[0]\n",
    "\n",
    "# setup termination\n",
    "termination_multi = DefaultMultiObjectiveTermination(\n",
    "    xtol=1e-8,\n",
    "    cvtol=1e-6,\n",
    "    ftol=0.0025,\n",
    "    period=30,\n",
    "    n_max_gen=1000,\n",
    "    n_max_evals=100000\n",
    ")\n",
    "termination_single = DefaultSingleObjectiveTermination(\n",
    "    xtol=1e-8,\n",
    "    cvtol=1e-6,\n",
    "    ftol=1e-6,\n",
    "    period=20,\n",
    "    n_max_gen=1000,\n",
    "    n_max_evals=100000\n",
    ")\n",
    "termination = MyTermination(n_required=pop_size*0.5)\n",
    "\n",
    "\n",
    "# setup problem\n",
    "multi_problem = ProblemMultiElementWise(\n",
    "    trace_length=trace_length,\n",
    "    encoder=encoder,\n",
    "    d4py=declare,\n",
    "    initial_population=initial_encoded_pop,\n",
    "    xl=lower_bounds,xu=upper_bounds,\n",
    "    event_log=event_log,\n",
    "    dataframe=dataframe\n",
    ")\n",
    "single_problem = ProblemSingleElementWise(\n",
    "    trace_length=trace_length,\n",
    "    encoder=encoder,\n",
    "    d4py=declare,\n",
    "    initial_population=initial_encoded_pop,\n",
    "    xl=lower_bounds,xu=upper_bounds,\n",
    "    event_log=event_log,\n",
    "    dataframe=dataframe\n",
    ")\n",
    "\n",
    "# setup algorithm\n",
    "multi_algorithm = NSGA2(\n",
    "    problem=multi_problem,\n",
    "    pop_size=pop_size,\n",
    "    sampling=sampling,\n",
    "    crossover=crossover,\n",
    "    mutation=mutation,\n",
    "    callback=UpdatePopulationCallback(),\n",
    "    eliminate_duplicates=True,\n",
    ")\n",
    "\n",
    "single_algorithm = GA(\n",
    "    problem=single_problem,\n",
    "    pop_size=pop_size,\n",
    "    sampling=sampling,\n",
    "    crossover=crossover,\n",
    "    mutation=mutation,\n",
    "    callback=UpdatePopulationCallback(),\n",
    "    eliminate_duplicates=True,\n",
    ")\n",
    "\n",
    "Tools.calculate_overall_diversity(encoder,\n",
    "                                  \"results/encoded_traces/encoded_traces_2025-02-15/ID_3_run_1_multi_yes_constraints.csv\", 50)\n",
    "\n",
    "print(len(declare.activities))"
   ],
   "outputs": [
    {
     "name": "stdout",
     "output_type": "stream",
     "text": [
      "Overall Diversity Score: 0.8186018977777778\n",
      "13\n"
     ]
    }
   ],
   "execution_count": 2
  },
  {
   "metadata": {
    "ExecuteTime": {
     "end_time": "2025-02-22T18:06:55.813115Z",
     "start_time": "2025-02-22T18:03:34.706313Z"
    }
   },
   "cell_type": "code",
   "source": [
    "result = minimize(single_problem, single_algorithm, termination=termination, seed=1, verbose=True)\n",
    "\n",
    "Tools.save_simple_solution(result.pop, encoder, result.exec_time, \"single\", pop_size, trace_length)\n",
    "\n",
    "data = result.algorithm.callback.get_data()\n",
    "\n",
    "diversity_scores = data.get(\"diversity_history\", None)\n",
    "constraint_scores = data.get(\"constraint_history\", None)\n",
    "n_violations_scores = data.get(\"n_violations_history\", None)\n",
    "n_generations = data.get(\"generations\", None)\n",
    "\n",
    "print(f\"Diversity score:{diversity_scores[-1]}\")"
   ],
   "id": "77a2da4d2556ac58",
   "outputs": [
    {
     "name": "stdout",
     "output_type": "stream",
     "text": [
      "=================================================================================\n",
      "n_gen  |  n_eval  |     cv_min    |     cv_avg    |     f_avg     |     f_min    \n",
      "=================================================================================\n",
      "     1 |       10 |  0.000000E+00 |  0.000000E+00 | -4.074000E+01 | -4.210000E+01\n",
      "     2 |     3010 |  0.000000E+00 |  4.6686666667 | -4.082941E+01 | -4.210000E+01\n",
      "     3 |     6010 |  0.000000E+00 |  4.2133333333 | -4.082941E+01 | -4.210000E+01\n",
      "     4 |     9010 |  0.000000E+00 |  3.9520000000 | -4.082941E+01 | -4.210000E+01\n",
      "     5 |    12010 |  0.000000E+00 |  3.6793333333 | -4.101161E+01 | -4.359067E+01\n",
      "     6 |    15010 |  0.000000E+00 |  3.5800000000 | -4.119018E+01 | -4.458300E+01\n",
      "     7 |    18010 |  0.000000E+00 |  3.5196666667 | -4.119018E+01 | -4.458300E+01\n",
      "     8 |    21010 |  0.000000E+00 |  3.4486666667 | -4.124206E+01 | -4.458300E+01\n",
      "     9 |    24010 |  0.000000E+00 |  3.3626666667 | -4.125309E+01 | -4.458300E+01\n",
      "    10 |    27010 |  0.000000E+00 |  3.2776666667 | -4.126728E+01 | -4.458300E+01\n",
      "    11 |    30010 |  0.000000E+00 |  3.2050000000 | -4.126728E+01 | -4.458300E+01\n",
      "    12 |    33010 |  0.000000E+00 |  3.1136666667 | -4.126728E+01 | -4.458300E+01\n",
      "    13 |    36010 |  0.000000E+00 |  3.0140000000 | -4.126728E+01 | -4.458300E+01\n",
      "    14 |    39010 |  0.000000E+00 |  2.9193333333 | -4.126728E+01 | -4.458300E+01\n",
      "    15 |    42010 |  0.000000E+00 |  2.8156666667 | -4.125587E+01 | -4.458300E+01\n",
      "    16 |    45010 |  0.000000E+00 |  2.7703333333 | -4.125587E+01 | -4.458300E+01\n",
      "    17 |    48010 |  0.000000E+00 |  2.7503333333 | -4.120472E+01 | -4.458300E+01\n",
      "    18 |    51010 |  0.000000E+00 |  2.7286666667 | -4.119387E+01 | -4.458300E+01\n",
      "    19 |    54010 |  0.000000E+00 |  2.7120000000 | -4.119387E+01 | -4.458300E+01\n",
      "    20 |    57010 |  0.000000E+00 |  2.6903333333 | -4.121664E+01 | -4.458300E+01\n",
      "    21 |    60010 |  0.000000E+00 |  2.6703333333 | -4.124695E+01 | -4.458300E+01\n",
      "    22 |    63010 |  0.000000E+00 |  2.6503333333 | -4.124819E+01 | -4.458300E+01\n",
      "    23 |    66010 |  0.000000E+00 |  2.6316666667 | -4.124685E+01 | -4.458300E+01\n",
      "    24 |    69010 |  0.000000E+00 |  2.6016666667 | -4.128765E+01 | -4.458300E+01\n",
      "    25 |    72010 |  0.000000E+00 |  2.5790000000 | -4.130221E+01 | -4.458300E+01\n",
      "    26 |    75010 |  0.000000E+00 |  2.5520000000 | -4.130221E+01 | -4.458300E+01\n",
      "    27 |    78010 |  0.000000E+00 |  2.5243333333 | -4.135107E+01 | -4.458300E+01\n",
      "    28 |    81010 |  0.000000E+00 |  2.5040000000 | -4.135107E+01 | -4.458300E+01\n",
      "    29 |    84010 |  0.000000E+00 |  2.4780000000 | -4.135107E+01 | -4.458300E+01\n",
      "    30 |    87010 |  0.000000E+00 |  2.4526666667 | -4.135107E+01 | -4.458300E+01\n",
      "    31 |    90010 |  0.000000E+00 |  2.4220000000 | -4.130691E+01 | -4.458300E+01\n",
      "    32 |    93010 |  0.000000E+00 |  2.3816666667 | -4.131760E+01 | -4.458300E+01\n",
      "    33 |    96010 |  0.000000E+00 |  2.3473333333 | -4.125770E+01 | -4.458300E+01\n",
      "    34 |    99010 |  0.000000E+00 |  2.2966666667 | -4.116025E+01 | -4.458300E+01\n",
      "    35 |   102010 |  0.000000E+00 |  2.2510000000 | -4.105141E+01 | -4.458300E+01\n",
      "    36 |   105010 |  0.000000E+00 |  2.1916666667 | -4.081069E+01 | -4.458300E+01\n",
      "    37 |   108010 |  0.000000E+00 |  2.1256666667 | -4.074597E+01 | -4.458300E+01\n",
      "    38 |   111010 |  0.000000E+00 |  2.0593333333 | -4.053690E+01 | -4.458300E+01\n",
      "    39 |   114010 |  0.000000E+00 |  1.9700000000 | -4.038934E+01 | -4.458300E+01\n",
      "    40 |   117010 |  0.000000E+00 |  1.8770000000 | -3.984338E+01 | -4.458300E+01\n",
      "    41 |   120010 |  0.000000E+00 |  1.8150000000 | -3.920312E+01 | -4.458300E+01\n",
      "    42 |   123010 |  0.000000E+00 |  1.7876666667 | -3.903332E+01 | -4.458300E+01\n",
      "    43 |   126010 |  0.000000E+00 |  1.7560000000 | -3.850175E+01 | -4.458300E+01\n",
      "    44 |   129010 |  0.000000E+00 |  1.7140000000 | -3.790005E+01 | -4.458300E+01\n",
      "    45 |   132010 |  0.000000E+00 |  1.6540000000 | -3.725760E+01 | -4.458300E+01\n",
      "    46 |   135010 |  0.000000E+00 |  1.5820000000 | -3.671760E+01 | -4.458300E+01\n",
      "    47 |   138010 |  0.000000E+00 |  1.4830000000 | -3.591791E+01 | -4.458300E+01\n",
      "    48 |   141010 |  0.000000E+00 |  1.3396666667 | -3.505510E+01 | -4.458300E+01\n",
      "    49 |   144010 |  0.000000E+00 |  1.1140000000 | -3.338295E+01 | -4.458300E+01\n",
      "    50 |   147010 |  0.000000E+00 |  0.8310000000 | -3.052592E+01 | -4.458300E+01\n",
      "    51 |   150010 |  0.000000E+00 |  0.7620000000 | -2.653418E+01 | -4.458300E+01\n",
      "    52 |   153010 |  0.000000E+00 |  0.6626666667 | -2.366402E+01 | -4.602800E+01\n",
      "    53 |   156010 |  0.000000E+00 |  0.5323333333 | -2.168462E+01 | -4.602800E+01\n",
      "    54 |   159010 |  0.000000E+00 |  0.3460000000 | -2.014757E+01 | -4.602800E+01\n",
      "Diversity score:-25.728459111111114\n"
     ]
    }
   ],
   "execution_count": 3
  }
 ],
 "metadata": {
  "kernelspec": {
   "display_name": "Python 3",
   "language": "python",
   "name": "python3"
  },
  "language_info": {
   "codemirror_mode": {
    "name": "ipython",
    "version": 2
   },
   "file_extension": ".py",
   "mimetype": "text/x-python",
   "name": "python",
   "nbconvert_exporter": "python",
   "pygments_lexer": "ipython2",
   "version": "2.7.6"
  }
 },
 "nbformat": 4,
 "nbformat_minor": 5
}

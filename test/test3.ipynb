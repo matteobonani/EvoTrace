{
 "cells": [
  {
   "cell_type": "code",
   "id": "initial_id",
   "metadata": {
    "collapsed": true,
    "ExecuteTime": {
     "end_time": "2025-01-29T12:42:06.142027Z",
     "start_time": "2025-01-29T12:42:02.949592Z"
    }
   },
   "source": [
    "from pymoo.termination.default import DefaultMultiObjectiveTermination, DefaultSingleObjectiveTermination\n",
    "import warnings\n",
    "import logging\n",
    "from terminator import MyTermination\n",
    "import itertools\n",
    "from pymoo.optimize import minimize\n",
    "from testSetup import Setup\n",
    "\n",
    "\n",
    "logging.getLogger('matplotlib').setLevel(logging.WARNING)\n",
    "warnings.filterwarnings(\"ignore\", \".*feasible.*\")"
   ],
   "outputs": [],
   "execution_count": 1
  },
  {
   "metadata": {
    "ExecuteTime": {
     "end_time": "2025-01-29T12:42:06.157853Z",
     "start_time": "2025-01-29T12:42:06.142027Z"
    }
   },
   "cell_type": "code",
   "source": [
    "# Test Configuration Lists\n",
    "pop_list = [2000, 3000]  # population sizes\n",
    "num_event_list = [20, 30, 50]  # trace lengths\n",
    "declare_model_list = [\"model1.decl\", \"model2.decl\", \"model3.decl\", \"model4.decl\"]  # declare models\n",
    "use_constraints = [\"yes\", \"no\"]\n",
    "termination_map = {\n",
    "    \"my_termination\": lambda pop_size: MyTermination(n_required=int(pop_size * 1.5)), # with the lambda it dynamically takes as a parameter the pop_size\n",
    "    \"multi\": lambda _: DefaultMultiObjectiveTermination(\n",
    "        xtol=1e-8, cvtol=1e-6, ftol=0.0025, period=30, n_max_gen=1000, n_max_evals=100000\n",
    "    ),\n",
    "    \"single\": lambda _: DefaultSingleObjectiveTermination(\n",
    "        xtol=1e-8, cvtol=1e-6, ftol=1e-6, period=20, n_max_gen=1000, n_max_evals=100000\n",
    "    ),\n",
    "}\n"
   ],
   "id": "632651c8528e37f7",
   "outputs": [],
   "execution_count": 2
  },
  {
   "metadata": {
    "ExecuteTime": {
     "end_time": "2025-01-29T13:07:11.750514Z",
     "start_time": "2025-01-29T12:42:06.165713Z"
    }
   },
   "cell_type": "code",
   "source": [
    "# TODO create a single file / add in the table all the numerics value of the fittness (diversity/n_events) / add the value of pymoo\n",
    "# TODO add requirements file and Readme\n",
    "# TODO save the final  population in a csv, 1 decoded trace per line, event;event ecc.\n",
    "# TODO check if we can use default pymoo mut and crossover\n",
    "# TODO to retrieve activity name, check d4py github\n",
    "\n",
    "\n",
    "for test_run in range(1, 4):\n",
    "    file_name = f\"results/results2.csv\"\n",
    "    with open(file_name, \"a\") as f:\n",
    "        f.write(\"ID,Population,TraceLength,Model,Termination,Algorithm, Constraints, \"\n",
    "                    f\"ExecutionTime, DiversityScore, ConstraintScore, NumberViolationScore, Iteration{test_run}\\n\")\n",
    "        ID = 1\n",
    "\n",
    "        # iterate through all configurations\n",
    "        for combination in itertools.product(pop_list, num_event_list, declare_model_list, termination_map.keys(), use_constraints):\n",
    "            pop_size, trace_length, model, termination, constraints= combination\n",
    "\n",
    "            print(f\"Running with ID={ID}: Population={pop_size}, TraceLength={trace_length}, Model={model}, Termination={termination}, Constraints={constraints}\")\n",
    "\n",
    "            # exclude 'my_termination' if 'use_constraint' is \"no\"\n",
    "            if constraints == \"no\" and termination == \"my_termination\":\n",
    "                print(f\"Skipping combination due to incompatible termination: {termination} with  {constraints} constraints\")\n",
    "                continue\n",
    "\n",
    "            # initialize shared components and population\n",
    "            (\n",
    "                encoder, declare, event_log, dataframe, activities_name\n",
    "            ) = Setup.initialize_shared_components(path_to_declareModel=f\"../declare_models/{model}\")\n",
    "            (\n",
    "                initial_population, initial_encoded_pop, features_range,\n",
    "                lower_bounds, upper_bounds, mutation, crossover, sampling\n",
    "            ) = Setup.setup_initial_population(trace_length, n_traces=10, activities_name=activities_name, encoder=encoder)\n",
    "\n",
    "            # determine termination and algorithm configurations\n",
    "            try:\n",
    "                termination_instance = termination_map[termination](pop_size)\n",
    "                pop_size_for_terminator = int(pop_size * 1.5) if termination == \"my_termination\" else pop_size\n",
    "                algorithm_types = [\"single\", \"multi\"] if termination == \"my_termination\" else [termination]\n",
    "\n",
    "                # logic to handle constraints\n",
    "                if constraints == \"no\": # only run \"single\" GA algorithm if no constraints\n",
    "                    algorithm_types = [\"single\"]\n",
    "                elif constraints == \"yes\": # allow both \"single\" and \"multi\" GA\n",
    "                    algorithm_types = [\"single\", \"multi\"]\n",
    "\n",
    "                for algorithm_type in algorithm_types:\n",
    "                    problem = Setup.create_problem(\n",
    "                        algorithm_type, trace_length, encoder, declare, initial_encoded_pop,\n",
    "                        lower_bounds, upper_bounds, event_log, dataframe, constraints\n",
    "                    )\n",
    "\n",
    "                    # init callback here because I need the obj data for plots\n",
    "                    algorithm = Setup.create_algorithm(algorithm_type, problem, pop_size_for_terminator, sampling, crossover, mutation)\n",
    "\n",
    "                    # run algorithm and logs\n",
    "                    try:\n",
    "                        result = minimize(problem, algorithm, termination=termination_instance, verbose=False)\n",
    "                        exec_time = result.exec_time\n",
    "\n",
    "                         # Extract data from the callback\n",
    "                        data = result.algorithm.callback.get_data()\n",
    "                        diversity_scores = data.get(\"diversity_history\", None)\n",
    "                        constraint_scores = data.get(\"constraint_history\", None)\n",
    "                        n_violations_scores = data.get(\"n_violations_history\", None)\n",
    "                        n_generations = data.get(\"generations\", None)\n",
    "\n",
    "                        # save log\n",
    "                        Setup.log_results(f, ID, pop_size, trace_length, model, termination, algorithm_type, constraints,\n",
    "                                          exec_time, diversity_scores, constraint_scores, n_violations_scores)\n",
    "                        # plot and save progress\n",
    "                        Setup.plot_and_save_progress(ID, test_run, algorithm_type, constraints,\n",
    "                                                     diversity_scores, constraint_scores, n_violations_scores, n_generations)\n",
    "\n",
    "                        Setup.save_feasible_traces(result.pop, encoder,test_run, ID, algorithm_type, constraints)\n",
    "\n",
    "                    except Exception as algo_error:\n",
    "                        Setup.log_results(f, ID, pop_size, trace_length, model, termination, algorithm_type, constraints,\n",
    "                                          \"N/A\", diversity_scores, constraint_scores, n_violations_scores, error=algo_error)\n",
    "                    ID += 1\n",
    "            except Exception as config_error:\n",
    "                Setup.log_results(f, ID, pop_size, trace_length, model, termination, algorithm_type, constraints,\n",
    "                                          \"N/A\", diversity_scores, constraint_scores, n_violations_scores, error=algo_error)\n",
    "                ID += 1\n"
   ],
   "id": "9393469569b8093a",
   "outputs": [
    {
     "name": "stdout",
     "output_type": "stream",
     "text": [
      "Running with ID=1: Population=2000, TraceLength=20, Model=model1.decl, Termination=my_termination, Constraints=yes\n",
      "Execution Time (single): 53.47 seconds\n",
      "Feasible traces saved to results/encoded_traces/ID_1_run_1_single_yes_constraints.csv\n",
      "Execution Time (multi): 53.04 seconds\n",
      "Feasible traces saved to results/encoded_traces/ID_2_run_1_multi_yes_constraints.csv\n",
      "Running with ID=3: Population=2000, TraceLength=20, Model=model1.decl, Termination=my_termination, Constraints=no\n",
      "Skipping combination due to incompatible termination: my_termination with  no constraints\n",
      "Running with ID=3: Population=2000, TraceLength=20, Model=model1.decl, Termination=multi, Constraints=yes\n",
      "Execution Time (single): 81.86 seconds\n",
      "Feasible traces saved to results/encoded_traces/ID_3_run_1_single_yes_constraints.csv\n",
      "Execution Time (multi): 85.39 seconds\n",
      "Feasible traces saved to results/encoded_traces/ID_4_run_1_multi_yes_constraints.csv\n",
      "Running with ID=5: Population=2000, TraceLength=20, Model=model1.decl, Termination=multi, Constraints=no\n",
      "Execution Time (single): 4.24 seconds\n",
      "Feasible traces saved to results/encoded_traces/ID_5_run_1_single_no_constraints.csv\n",
      "Running with ID=6: Population=2000, TraceLength=20, Model=model1.decl, Termination=single, Constraints=yes\n",
      "Execution Time (single): 83.17 seconds\n",
      "Feasible traces saved to results/encoded_traces/ID_6_run_1_single_yes_constraints.csv\n",
      "Execution Time (multi): 85.84 seconds\n",
      "Feasible traces saved to results/encoded_traces/ID_7_run_1_multi_yes_constraints.csv\n",
      "Running with ID=8: Population=2000, TraceLength=20, Model=model1.decl, Termination=single, Constraints=no\n",
      "Execution Time (single): 3.20 seconds\n",
      "Feasible traces saved to results/encoded_traces/ID_8_run_1_single_no_constraints.csv\n",
      "Running with ID=9: Population=2000, TraceLength=20, Model=model2.decl, Termination=my_termination, Constraints=yes\n"
     ]
    },
    {
     "ename": "KeyboardInterrupt",
     "evalue": "",
     "output_type": "error",
     "traceback": [
      "\u001B[1;31m---------------------------------------------------------------------------\u001B[0m",
      "\u001B[1;31mKeyboardInterrupt\u001B[0m                         Traceback (most recent call last)",
      "Cell \u001B[1;32mIn[3], line 58\u001B[0m\n\u001B[0;32m     56\u001B[0m \u001B[38;5;66;03m# run algorithm and logs\u001B[39;00m\n\u001B[0;32m     57\u001B[0m \u001B[38;5;28;01mtry\u001B[39;00m:\n\u001B[1;32m---> 58\u001B[0m     result \u001B[38;5;241m=\u001B[39m \u001B[43mminimize\u001B[49m\u001B[43m(\u001B[49m\u001B[43mproblem\u001B[49m\u001B[43m,\u001B[49m\u001B[43m \u001B[49m\u001B[43malgorithm\u001B[49m\u001B[43m,\u001B[49m\u001B[43m \u001B[49m\u001B[43mtermination\u001B[49m\u001B[38;5;241;43m=\u001B[39;49m\u001B[43mtermination_instance\u001B[49m\u001B[43m,\u001B[49m\u001B[43m \u001B[49m\u001B[43mverbose\u001B[49m\u001B[38;5;241;43m=\u001B[39;49m\u001B[38;5;28;43;01mFalse\u001B[39;49;00m\u001B[43m)\u001B[49m\n\u001B[0;32m     59\u001B[0m     exec_time \u001B[38;5;241m=\u001B[39m result\u001B[38;5;241m.\u001B[39mexec_time\n\u001B[0;32m     61\u001B[0m      \u001B[38;5;66;03m# Extract data from the callback\u001B[39;00m\n",
      "File \u001B[1;32m~\\anaconda3\\envs\\myenv\\lib\\site-packages\\pymoo\\optimize.py:67\u001B[0m, in \u001B[0;36mminimize\u001B[1;34m(problem, algorithm, termination, copy_algorithm, copy_termination, **kwargs)\u001B[0m\n\u001B[0;32m     64\u001B[0m     algorithm\u001B[38;5;241m.\u001B[39msetup(problem, \u001B[38;5;241m*\u001B[39m\u001B[38;5;241m*\u001B[39mkwargs)\n\u001B[0;32m     66\u001B[0m \u001B[38;5;66;03m# actually execute the algorithm\u001B[39;00m\n\u001B[1;32m---> 67\u001B[0m res \u001B[38;5;241m=\u001B[39m \u001B[43malgorithm\u001B[49m\u001B[38;5;241;43m.\u001B[39;49m\u001B[43mrun\u001B[49m\u001B[43m(\u001B[49m\u001B[43m)\u001B[49m\n\u001B[0;32m     69\u001B[0m \u001B[38;5;66;03m# store the deep copied algorithm in the result object\u001B[39;00m\n\u001B[0;32m     70\u001B[0m res\u001B[38;5;241m.\u001B[39malgorithm \u001B[38;5;241m=\u001B[39m algorithm\n",
      "File \u001B[1;32m~\\anaconda3\\envs\\myenv\\lib\\site-packages\\pymoo\\core\\algorithm.py:138\u001B[0m, in \u001B[0;36mAlgorithm.run\u001B[1;34m(self)\u001B[0m\n\u001B[0;32m    136\u001B[0m \u001B[38;5;28;01mdef\u001B[39;00m \u001B[38;5;21mrun\u001B[39m(\u001B[38;5;28mself\u001B[39m):\n\u001B[0;32m    137\u001B[0m     \u001B[38;5;28;01mwhile\u001B[39;00m \u001B[38;5;28mself\u001B[39m\u001B[38;5;241m.\u001B[39mhas_next():\n\u001B[1;32m--> 138\u001B[0m         \u001B[38;5;28;43mself\u001B[39;49m\u001B[38;5;241;43m.\u001B[39;49m\u001B[43mnext\u001B[49m\u001B[43m(\u001B[49m\u001B[43m)\u001B[49m\n\u001B[0;32m    139\u001B[0m     \u001B[38;5;28;01mreturn\u001B[39;00m \u001B[38;5;28mself\u001B[39m\u001B[38;5;241m.\u001B[39mresult()\n",
      "File \u001B[1;32m~\\anaconda3\\envs\\myenv\\lib\\site-packages\\pymoo\\core\\algorithm.py:158\u001B[0m, in \u001B[0;36mAlgorithm.next\u001B[1;34m(self)\u001B[0m\n\u001B[0;32m    156\u001B[0m \u001B[38;5;66;03m# call the advance with them after evaluation\u001B[39;00m\n\u001B[0;32m    157\u001B[0m \u001B[38;5;28;01mif\u001B[39;00m infills \u001B[38;5;129;01mis\u001B[39;00m \u001B[38;5;129;01mnot\u001B[39;00m \u001B[38;5;28;01mNone\u001B[39;00m:\n\u001B[1;32m--> 158\u001B[0m     \u001B[38;5;28;43mself\u001B[39;49m\u001B[38;5;241;43m.\u001B[39;49m\u001B[43mevaluator\u001B[49m\u001B[38;5;241;43m.\u001B[39;49m\u001B[43meval\u001B[49m\u001B[43m(\u001B[49m\u001B[38;5;28;43mself\u001B[39;49m\u001B[38;5;241;43m.\u001B[39;49m\u001B[43mproblem\u001B[49m\u001B[43m,\u001B[49m\u001B[43m \u001B[49m\u001B[43minfills\u001B[49m\u001B[43m,\u001B[49m\u001B[43m \u001B[49m\u001B[43malgorithm\u001B[49m\u001B[38;5;241;43m=\u001B[39;49m\u001B[38;5;28;43mself\u001B[39;49m\u001B[43m)\u001B[49m\n\u001B[0;32m    159\u001B[0m     \u001B[38;5;28mself\u001B[39m\u001B[38;5;241m.\u001B[39madvance(infills\u001B[38;5;241m=\u001B[39minfills)\n\u001B[0;32m    161\u001B[0m \u001B[38;5;66;03m# if the algorithm does not follow the infill-advance scheme just call advance\u001B[39;00m\n\u001B[0;32m    162\u001B[0m \u001B[38;5;28;01melse\u001B[39;00m:\n",
      "File \u001B[1;32m~\\anaconda3\\envs\\myenv\\lib\\site-packages\\pymoo\\core\\evaluator.py:69\u001B[0m, in \u001B[0;36mEvaluator.eval\u001B[1;34m(self, problem, pop, skip_already_evaluated, evaluate_values_of, count_evals, **kwargs)\u001B[0m\n\u001B[0;32m     65\u001B[0m \u001B[38;5;66;03m# evaluate the solutions (if there are any)\u001B[39;00m\n\u001B[0;32m     66\u001B[0m \u001B[38;5;28;01mif\u001B[39;00m \u001B[38;5;28mlen\u001B[39m(I) \u001B[38;5;241m>\u001B[39m \u001B[38;5;241m0\u001B[39m:\n\u001B[0;32m     67\u001B[0m \n\u001B[0;32m     68\u001B[0m     \u001B[38;5;66;03m# do the actual evaluation - call the sub-function to set the corresponding values to the population\u001B[39;00m\n\u001B[1;32m---> 69\u001B[0m     \u001B[38;5;28mself\u001B[39m\u001B[38;5;241m.\u001B[39m_eval(problem, pop[I], evaluate_values_of, \u001B[38;5;241m*\u001B[39m\u001B[38;5;241m*\u001B[39mkwargs)\n\u001B[0;32m     71\u001B[0m \u001B[38;5;66;03m# update the function evaluation counter\u001B[39;00m\n\u001B[0;32m     72\u001B[0m \u001B[38;5;28;01mif\u001B[39;00m count_evals:\n",
      "File \u001B[1;32m~\\anaconda3\\envs\\myenv\\lib\\site-packages\\pymoo\\core\\evaluator.py:90\u001B[0m, in \u001B[0;36mEvaluator._eval\u001B[1;34m(self, problem, pop, evaluate_values_of, **kwargs)\u001B[0m\n\u001B[0;32m     87\u001B[0m X \u001B[38;5;241m=\u001B[39m pop\u001B[38;5;241m.\u001B[39mget(\u001B[38;5;124m\"\u001B[39m\u001B[38;5;124mX\u001B[39m\u001B[38;5;124m\"\u001B[39m)\n\u001B[0;32m     89\u001B[0m \u001B[38;5;66;03m# call the problem to evaluate the solutions\u001B[39;00m\n\u001B[1;32m---> 90\u001B[0m out \u001B[38;5;241m=\u001B[39m problem\u001B[38;5;241m.\u001B[39mevaluate(X, return_values_of\u001B[38;5;241m=\u001B[39mevaluate_values_of, return_as_dictionary\u001B[38;5;241m=\u001B[39m\u001B[38;5;28;01mTrue\u001B[39;00m, \u001B[38;5;241m*\u001B[39m\u001B[38;5;241m*\u001B[39mkwargs)\n\u001B[0;32m     92\u001B[0m \u001B[38;5;66;03m# for each of the attributes set it to the problem\u001B[39;00m\n\u001B[0;32m     93\u001B[0m \u001B[38;5;28;01mfor\u001B[39;00m key, val \u001B[38;5;129;01min\u001B[39;00m out\u001B[38;5;241m.\u001B[39mitems():\n",
      "File \u001B[1;32m~\\anaconda3\\envs\\myenv\\lib\\site-packages\\pymoo\\core\\problem.py:257\u001B[0m, in \u001B[0;36mProblem.evaluate\u001B[1;34m(self, X, return_values_of, return_as_dictionary, *args, **kwargs)\u001B[0m\n\u001B[0;32m    254\u001B[0m     only_single_value \u001B[38;5;241m=\u001B[39m \u001B[38;5;129;01mnot\u001B[39;00m (\u001B[38;5;28misinstance\u001B[39m(X, \u001B[38;5;28mlist\u001B[39m) \u001B[38;5;129;01mor\u001B[39;00m \u001B[38;5;28misinstance\u001B[39m(X, np\u001B[38;5;241m.\u001B[39mndarray))\n\u001B[0;32m    256\u001B[0m \u001B[38;5;66;03m# this is where the actual evaluation takes place\u001B[39;00m\n\u001B[1;32m--> 257\u001B[0m _out \u001B[38;5;241m=\u001B[39m \u001B[38;5;28mself\u001B[39m\u001B[38;5;241m.\u001B[39mdo(X, return_values_of, \u001B[38;5;241m*\u001B[39margs, \u001B[38;5;241m*\u001B[39m\u001B[38;5;241m*\u001B[39mkwargs)\n\u001B[0;32m    259\u001B[0m out \u001B[38;5;241m=\u001B[39m {}\n\u001B[0;32m    260\u001B[0m \u001B[38;5;28;01mfor\u001B[39;00m k, v \u001B[38;5;129;01min\u001B[39;00m _out\u001B[38;5;241m.\u001B[39mitems():\n\u001B[0;32m    261\u001B[0m \n\u001B[0;32m    262\u001B[0m     \u001B[38;5;66;03m# copy it to a numpy array (it might be one of jax at this point)\u001B[39;00m\n",
      "File \u001B[1;32m~\\anaconda3\\envs\\myenv\\lib\\site-packages\\pymoo\\core\\problem.py:297\u001B[0m, in \u001B[0;36mProblem.do\u001B[1;34m(self, X, return_values_of, *args, **kwargs)\u001B[0m\n\u001B[0;32m    295\u001B[0m \u001B[38;5;66;03m# do the function evaluation\u001B[39;00m\n\u001B[0;32m    296\u001B[0m \u001B[38;5;28;01mif\u001B[39;00m \u001B[38;5;28mself\u001B[39m\u001B[38;5;241m.\u001B[39melementwise:\n\u001B[1;32m--> 297\u001B[0m     \u001B[38;5;28mself\u001B[39m\u001B[38;5;241m.\u001B[39m_evaluate_elementwise(X, out, \u001B[38;5;241m*\u001B[39margs, \u001B[38;5;241m*\u001B[39m\u001B[38;5;241m*\u001B[39mkwargs)\n\u001B[0;32m    298\u001B[0m \u001B[38;5;28;01melse\u001B[39;00m:\n\u001B[0;32m    299\u001B[0m     \u001B[38;5;28mself\u001B[39m\u001B[38;5;241m.\u001B[39m_evaluate_vectorized(X, out, \u001B[38;5;241m*\u001B[39margs, \u001B[38;5;241m*\u001B[39m\u001B[38;5;241m*\u001B[39mkwargs)\n",
      "File \u001B[1;32m~\\anaconda3\\envs\\myenv\\lib\\site-packages\\pymoo\\core\\problem.py:315\u001B[0m, in \u001B[0;36mProblem._evaluate_elementwise\u001B[1;34m(self, X, out, *args, **kwargs)\u001B[0m\n\u001B[0;32m    312\u001B[0m f \u001B[38;5;241m=\u001B[39m \u001B[38;5;28mself\u001B[39m\u001B[38;5;241m.\u001B[39melementwise_func(\u001B[38;5;28mself\u001B[39m, args, kwargs)\n\u001B[0;32m    314\u001B[0m \u001B[38;5;66;03m# execute the runner\u001B[39;00m\n\u001B[1;32m--> 315\u001B[0m elems \u001B[38;5;241m=\u001B[39m \u001B[38;5;28;43mself\u001B[39;49m\u001B[38;5;241;43m.\u001B[39;49m\u001B[43melementwise_runner\u001B[49m\u001B[43m(\u001B[49m\u001B[43mf\u001B[49m\u001B[43m,\u001B[49m\u001B[43m \u001B[49m\u001B[43mX\u001B[49m\u001B[43m)\u001B[49m\n\u001B[0;32m    317\u001B[0m \u001B[38;5;66;03m# for each evaluation call\u001B[39;00m\n\u001B[0;32m    318\u001B[0m \u001B[38;5;28;01mfor\u001B[39;00m elem \u001B[38;5;129;01min\u001B[39;00m elems:\n\u001B[0;32m    319\u001B[0m \n\u001B[0;32m    320\u001B[0m     \u001B[38;5;66;03m# for each key stored for this evaluation\u001B[39;00m\n",
      "File \u001B[1;32m~\\anaconda3\\envs\\myenv\\lib\\site-packages\\pymoo\\core\\problem.py:32\u001B[0m, in \u001B[0;36mLoopedElementwiseEvaluation.__call__\u001B[1;34m(self, f, X)\u001B[0m\n\u001B[0;32m     31\u001B[0m \u001B[38;5;28;01mdef\u001B[39;00m \u001B[38;5;21m__call__\u001B[39m(\u001B[38;5;28mself\u001B[39m, f, X):\n\u001B[1;32m---> 32\u001B[0m     \u001B[38;5;28;01mreturn\u001B[39;00m [f(x) \u001B[38;5;28;01mfor\u001B[39;00m x \u001B[38;5;129;01min\u001B[39;00m X]\n",
      "File \u001B[1;32m~\\anaconda3\\envs\\myenv\\lib\\site-packages\\pymoo\\core\\problem.py:32\u001B[0m, in \u001B[0;36m<listcomp>\u001B[1;34m(.0)\u001B[0m\n\u001B[0;32m     31\u001B[0m \u001B[38;5;28;01mdef\u001B[39;00m \u001B[38;5;21m__call__\u001B[39m(\u001B[38;5;28mself\u001B[39m, f, X):\n\u001B[1;32m---> 32\u001B[0m     \u001B[38;5;28;01mreturn\u001B[39;00m [\u001B[43mf\u001B[49m\u001B[43m(\u001B[49m\u001B[43mx\u001B[49m\u001B[43m)\u001B[49m \u001B[38;5;28;01mfor\u001B[39;00m x \u001B[38;5;129;01min\u001B[39;00m X]\n",
      "File \u001B[1;32m~\\anaconda3\\envs\\myenv\\lib\\site-packages\\pymoo\\core\\problem.py:25\u001B[0m, in \u001B[0;36mElementwiseEvaluationFunction.__call__\u001B[1;34m(self, x)\u001B[0m\n\u001B[0;32m     23\u001B[0m \u001B[38;5;28;01mdef\u001B[39;00m \u001B[38;5;21m__call__\u001B[39m(\u001B[38;5;28mself\u001B[39m, x):\n\u001B[0;32m     24\u001B[0m     out \u001B[38;5;241m=\u001B[39m \u001B[38;5;28mdict\u001B[39m()\n\u001B[1;32m---> 25\u001B[0m     \u001B[38;5;28mself\u001B[39m\u001B[38;5;241m.\u001B[39mproblem\u001B[38;5;241m.\u001B[39m_evaluate(x, out, \u001B[38;5;241m*\u001B[39m\u001B[38;5;28mself\u001B[39m\u001B[38;5;241m.\u001B[39margs, \u001B[38;5;241m*\u001B[39m\u001B[38;5;241m*\u001B[39m\u001B[38;5;28mself\u001B[39m\u001B[38;5;241m.\u001B[39mkwargs)\n\u001B[0;32m     26\u001B[0m     \u001B[38;5;28;01mreturn\u001B[39;00m out\n",
      "File \u001B[1;32m~\\Documents\\UNI\\GA_trace_generator\\problem.py:152\u001B[0m, in \u001B[0;36mProblem_single_ElementWise._evaluate\u001B[1;34m(self, x, out, *args, **kwargs)\u001B[0m\n\u001B[0;32m    147\u001B[0m \u001B[38;5;250m\u001B[39m\u001B[38;5;124;03m\"\"\"\u001B[39;00m\n\u001B[0;32m    148\u001B[0m \u001B[38;5;124;03mEvaluate a single trace.\u001B[39;00m\n\u001B[0;32m    149\u001B[0m \u001B[38;5;124;03m\"\"\"\u001B[39;00m\n\u001B[0;32m    151\u001B[0m \u001B[38;5;66;03m# objective 1: Constraint violations\u001B[39;00m\n\u001B[1;32m--> 152\u001B[0m constraint_score \u001B[38;5;241m=\u001B[39m \u001B[38;5;28;43mself\u001B[39;49m\u001B[38;5;241;43m.\u001B[39;49m\u001B[43mevaluate_constraints\u001B[49m\u001B[43m(\u001B[49m\u001B[43mx\u001B[49m\u001B[43m)\u001B[49m\n\u001B[0;32m    154\u001B[0m \u001B[38;5;66;03m# objective 2: Diversity\u001B[39;00m\n\u001B[0;32m    155\u001B[0m diversity_score \u001B[38;5;241m=\u001B[39m \u001B[38;5;241m-\u001B[39m\u001B[38;5;28mself\u001B[39m\u001B[38;5;241m.\u001B[39mcalculate_diversity(x, \u001B[38;5;28mself\u001B[39m\u001B[38;5;241m.\u001B[39mcurrent_population) \u001B[38;5;66;03m# negative because pymoo minimize, choose the lower value\u001B[39;00m\n",
      "File \u001B[1;32m~\\Documents\\UNI\\GA_trace_generator\\problem.py:114\u001B[0m, in \u001B[0;36mProblem_single_ElementWise.evaluate_constraints\u001B[1;34m(self, trace)\u001B[0m\n\u001B[0;32m    112\u001B[0m \u001B[38;5;28mself\u001B[39m\u001B[38;5;241m.\u001B[39mdataframe[\u001B[38;5;124m'\u001B[39m\u001B[38;5;124mconcept:name\u001B[39m\u001B[38;5;124m'\u001B[39m] \u001B[38;5;241m=\u001B[39m pd\u001B[38;5;241m.\u001B[39mDataFrame(decoded_trace)\n\u001B[0;32m    113\u001B[0m \u001B[38;5;28mself\u001B[39m\u001B[38;5;241m.\u001B[39mevent_log\u001B[38;5;241m.\u001B[39mlog \u001B[38;5;241m=\u001B[39m \u001B[38;5;28mself\u001B[39m\u001B[38;5;241m.\u001B[39mdataframe\n\u001B[1;32m--> 114\u001B[0m \u001B[38;5;28;43mself\u001B[39;49m\u001B[38;5;241;43m.\u001B[39;49m\u001B[43mevent_log\u001B[49m\u001B[38;5;241;43m.\u001B[39;49m\u001B[43mto_eventlog\u001B[49m\u001B[43m(\u001B[49m\u001B[43m)\u001B[49m\n\u001B[0;32m    116\u001B[0m basic_checker \u001B[38;5;241m=\u001B[39m MPDeclareAnalyzer(log\u001B[38;5;241m=\u001B[39m\u001B[38;5;28mself\u001B[39m\u001B[38;5;241m.\u001B[39mevent_log, declare_model\u001B[38;5;241m=\u001B[39m\u001B[38;5;28mself\u001B[39m\u001B[38;5;241m.\u001B[39md4py, consider_vacuity\u001B[38;5;241m=\u001B[39m\u001B[38;5;28;01mFalse\u001B[39;00m)\n\u001B[0;32m    117\u001B[0m conf_check_res: MPDeclareResultsBrowser \u001B[38;5;241m=\u001B[39m basic_checker\u001B[38;5;241m.\u001B[39mrun()\n",
      "File \u001B[1;32m~\\anaconda3\\envs\\myenv\\lib\\site-packages\\Declare4Py\\D4PyEventLog.py:243\u001B[0m, in \u001B[0;36mD4PyEventLog.to_eventlog\u001B[1;34m(self)\u001B[0m\n\u001B[0;32m    241\u001B[0m \u001B[38;5;28;01mwith\u001B[39;00m warnings\u001B[38;5;241m.\u001B[39mcatch_warnings():\n\u001B[0;32m    242\u001B[0m     warnings\u001B[38;5;241m.\u001B[39mfilterwarnings(\u001B[38;5;124m\"\u001B[39m\u001B[38;5;124mignore\u001B[39m\u001B[38;5;124m\"\u001B[39m, category\u001B[38;5;241m=\u001B[39m\u001B[38;5;167;01mDeprecationWarning\u001B[39;00m)\n\u001B[1;32m--> 243\u001B[0m     \u001B[38;5;28mself\u001B[39m\u001B[38;5;241m.\u001B[39mlog \u001B[38;5;241m=\u001B[39m \u001B[43mpm4py\u001B[49m\u001B[38;5;241;43m.\u001B[39;49m\u001B[43mconvert_to_event_log\u001B[49m\u001B[43m(\u001B[49m\u001B[38;5;28;43mself\u001B[39;49m\u001B[38;5;241;43m.\u001B[39;49m\u001B[43mlog\u001B[49m\u001B[43m)\u001B[49m\n",
      "File \u001B[1;32m~\\anaconda3\\envs\\myenv\\lib\\site-packages\\pm4py\\convert.py:66\u001B[0m, in \u001B[0;36mconvert_to_event_log\u001B[1;34m(obj, case_id_key, **kwargs)\u001B[0m\n\u001B[0;32m     47\u001B[0m \u001B[38;5;250m\u001B[39m\u001B[38;5;124;03m\"\"\"\u001B[39;00m\n\u001B[0;32m     48\u001B[0m \u001B[38;5;124;03mConverts a DataFrame or EventStream object to an event log object.\u001B[39;00m\n\u001B[0;32m     49\u001B[0m \n\u001B[1;32m   (...)\u001B[0m\n\u001B[0;32m     62\u001B[0m \u001B[38;5;124;03m   log = pm4py.convert_to_event_log(dataframe)\u001B[39;00m\n\u001B[0;32m     63\u001B[0m \u001B[38;5;124;03m\"\"\"\u001B[39;00m\n\u001B[0;32m     65\u001B[0m \u001B[38;5;28;01mif\u001B[39;00m check_is_pandas_dataframe(obj):\n\u001B[1;32m---> 66\u001B[0m     \u001B[43mcheck_pandas_dataframe_columns\u001B[49m\u001B[43m(\u001B[49m\u001B[43mobj\u001B[49m\u001B[43m,\u001B[49m\u001B[43m \u001B[49m\u001B[43mcase_id_key\u001B[49m\u001B[38;5;241;43m=\u001B[39;49m\u001B[43mcase_id_key\u001B[49m\u001B[43m)\u001B[49m\n\u001B[0;32m     68\u001B[0m parameters \u001B[38;5;241m=\u001B[39m get_properties(obj, case_id_key\u001B[38;5;241m=\u001B[39mcase_id_key)\n\u001B[0;32m     69\u001B[0m \u001B[38;5;28;01mfor\u001B[39;00m k, v \u001B[38;5;129;01min\u001B[39;00m kwargs\u001B[38;5;241m.\u001B[39mitems():\n",
      "File \u001B[1;32m~\\anaconda3\\envs\\myenv\\lib\\site-packages\\pm4py\\util\\pandas_utils.py:367\u001B[0m, in \u001B[0;36mcheck_pandas_dataframe_columns\u001B[1;34m(df, activity_key, case_id_key, timestamp_key, start_timestamp_key)\u001B[0m\n\u001B[0;32m    364\u001B[0m \u001B[38;5;28;01mif\u001B[39;00m \u001B[38;5;28mlen\u001B[39m(df\u001B[38;5;241m.\u001B[39mcolumns) \u001B[38;5;241m<\u001B[39m \u001B[38;5;241m3\u001B[39m:\n\u001B[0;32m    365\u001B[0m     \u001B[38;5;28;01mraise\u001B[39;00m \u001B[38;5;167;01mException\u001B[39;00m(\u001B[38;5;124m\"\u001B[39m\u001B[38;5;124mthe dataframe should (at least) contain a column for the case identifier, a column for the activity and a column for the timestamp.\u001B[39m\u001B[38;5;124m\"\u001B[39m)\n\u001B[1;32m--> 367\u001B[0m str_columns \u001B[38;5;241m=\u001B[39m {x \u001B[38;5;28;01mfor\u001B[39;00m x \u001B[38;5;129;01min\u001B[39;00m df\u001B[38;5;241m.\u001B[39mcolumns \u001B[38;5;28;01mif\u001B[39;00m \u001B[38;5;124m\"\u001B[39m\u001B[38;5;124mstr\u001B[39m\u001B[38;5;124m\"\u001B[39m \u001B[38;5;129;01min\u001B[39;00m \u001B[38;5;28mstr\u001B[39m(df[x]\u001B[38;5;241m.\u001B[39mdtype)\u001B[38;5;241m.\u001B[39mlower() \u001B[38;5;129;01mor\u001B[39;00m \u001B[38;5;124m\"\u001B[39m\u001B[38;5;124mobj\u001B[39m\u001B[38;5;124m\"\u001B[39m \u001B[38;5;129;01min\u001B[39;00m \u001B[38;5;28mstr\u001B[39m(df[x]\u001B[38;5;241m.\u001B[39mdtype)\u001B[38;5;241m.\u001B[39mlower()}\n\u001B[0;32m    368\u001B[0m timest_columns \u001B[38;5;241m=\u001B[39m {x \u001B[38;5;28;01mfor\u001B[39;00m x \u001B[38;5;129;01min\u001B[39;00m df\u001B[38;5;241m.\u001B[39mcolumns \u001B[38;5;28;01mif\u001B[39;00m \u001B[38;5;124m\"\u001B[39m\u001B[38;5;124mdate\u001B[39m\u001B[38;5;124m\"\u001B[39m \u001B[38;5;129;01min\u001B[39;00m \u001B[38;5;28mstr\u001B[39m(df[x]\u001B[38;5;241m.\u001B[39mdtype)\u001B[38;5;241m.\u001B[39mlower() \u001B[38;5;129;01mor\u001B[39;00m \u001B[38;5;124m\"\u001B[39m\u001B[38;5;124mtime\u001B[39m\u001B[38;5;124m\"\u001B[39m \u001B[38;5;129;01min\u001B[39;00m \u001B[38;5;28mstr\u001B[39m(df[x]\u001B[38;5;241m.\u001B[39mdtype)\u001B[38;5;241m.\u001B[39mlower()}\n\u001B[0;32m    370\u001B[0m \u001B[38;5;28;01mif\u001B[39;00m \u001B[38;5;28mlen\u001B[39m(str_columns) \u001B[38;5;241m<\u001B[39m \u001B[38;5;241m2\u001B[39m:\n",
      "File \u001B[1;32m~\\anaconda3\\envs\\myenv\\lib\\site-packages\\pm4py\\util\\pandas_utils.py:367\u001B[0m, in \u001B[0;36m<setcomp>\u001B[1;34m(.0)\u001B[0m\n\u001B[0;32m    364\u001B[0m \u001B[38;5;28;01mif\u001B[39;00m \u001B[38;5;28mlen\u001B[39m(df\u001B[38;5;241m.\u001B[39mcolumns) \u001B[38;5;241m<\u001B[39m \u001B[38;5;241m3\u001B[39m:\n\u001B[0;32m    365\u001B[0m     \u001B[38;5;28;01mraise\u001B[39;00m \u001B[38;5;167;01mException\u001B[39;00m(\u001B[38;5;124m\"\u001B[39m\u001B[38;5;124mthe dataframe should (at least) contain a column for the case identifier, a column for the activity and a column for the timestamp.\u001B[39m\u001B[38;5;124m\"\u001B[39m)\n\u001B[1;32m--> 367\u001B[0m str_columns \u001B[38;5;241m=\u001B[39m {x \u001B[38;5;28;01mfor\u001B[39;00m x \u001B[38;5;129;01min\u001B[39;00m df\u001B[38;5;241m.\u001B[39mcolumns \u001B[38;5;28;01mif\u001B[39;00m \u001B[38;5;124m\"\u001B[39m\u001B[38;5;124mstr\u001B[39m\u001B[38;5;124m\"\u001B[39m \u001B[38;5;129;01min\u001B[39;00m \u001B[38;5;28mstr\u001B[39m(\u001B[43mdf\u001B[49m\u001B[43m[\u001B[49m\u001B[43mx\u001B[49m\u001B[43m]\u001B[49m\u001B[38;5;241m.\u001B[39mdtype)\u001B[38;5;241m.\u001B[39mlower() \u001B[38;5;129;01mor\u001B[39;00m \u001B[38;5;124m\"\u001B[39m\u001B[38;5;124mobj\u001B[39m\u001B[38;5;124m\"\u001B[39m \u001B[38;5;129;01min\u001B[39;00m \u001B[38;5;28mstr\u001B[39m(df[x]\u001B[38;5;241m.\u001B[39mdtype)\u001B[38;5;241m.\u001B[39mlower()}\n\u001B[0;32m    368\u001B[0m timest_columns \u001B[38;5;241m=\u001B[39m {x \u001B[38;5;28;01mfor\u001B[39;00m x \u001B[38;5;129;01min\u001B[39;00m df\u001B[38;5;241m.\u001B[39mcolumns \u001B[38;5;28;01mif\u001B[39;00m \u001B[38;5;124m\"\u001B[39m\u001B[38;5;124mdate\u001B[39m\u001B[38;5;124m\"\u001B[39m \u001B[38;5;129;01min\u001B[39;00m \u001B[38;5;28mstr\u001B[39m(df[x]\u001B[38;5;241m.\u001B[39mdtype)\u001B[38;5;241m.\u001B[39mlower() \u001B[38;5;129;01mor\u001B[39;00m \u001B[38;5;124m\"\u001B[39m\u001B[38;5;124mtime\u001B[39m\u001B[38;5;124m\"\u001B[39m \u001B[38;5;129;01min\u001B[39;00m \u001B[38;5;28mstr\u001B[39m(df[x]\u001B[38;5;241m.\u001B[39mdtype)\u001B[38;5;241m.\u001B[39mlower()}\n\u001B[0;32m    370\u001B[0m \u001B[38;5;28;01mif\u001B[39;00m \u001B[38;5;28mlen\u001B[39m(str_columns) \u001B[38;5;241m<\u001B[39m \u001B[38;5;241m2\u001B[39m:\n",
      "File \u001B[1;32m~\\anaconda3\\envs\\myenv\\lib\\site-packages\\pandas\\core\\frame.py:4063\u001B[0m, in \u001B[0;36mDataFrame.__getitem__\u001B[1;34m(self, key)\u001B[0m\n\u001B[0;32m   4062\u001B[0m \u001B[38;5;28;01mdef\u001B[39;00m \u001B[38;5;21m__getitem__\u001B[39m(\u001B[38;5;28mself\u001B[39m, key):\n\u001B[1;32m-> 4063\u001B[0m     \u001B[43mcheck_dict_or_set_indexers\u001B[49m\u001B[43m(\u001B[49m\u001B[43mkey\u001B[49m\u001B[43m)\u001B[49m\n\u001B[0;32m   4064\u001B[0m     key \u001B[38;5;241m=\u001B[39m lib\u001B[38;5;241m.\u001B[39mitem_from_zerodim(key)\n\u001B[0;32m   4065\u001B[0m     key \u001B[38;5;241m=\u001B[39m com\u001B[38;5;241m.\u001B[39mapply_if_callable(key, \u001B[38;5;28mself\u001B[39m)\n",
      "File \u001B[1;32m~\\anaconda3\\envs\\myenv\\lib\\site-packages\\pandas\\core\\indexing.py:2765\u001B[0m, in \u001B[0;36mcheck_dict_or_set_indexers\u001B[1;34m(key)\u001B[0m\n\u001B[0;32m   2753\u001B[0m \u001B[38;5;250m    \u001B[39m\u001B[38;5;124;03m\"\"\"\u001B[39;00m\n\u001B[0;32m   2754\u001B[0m \u001B[38;5;124;03m    Returns\u001B[39;00m\n\u001B[0;32m   2755\u001B[0m \u001B[38;5;124;03m    -------\u001B[39;00m\n\u001B[0;32m   2756\u001B[0m \u001B[38;5;124;03m    bool\u001B[39;00m\n\u001B[0;32m   2757\u001B[0m \u001B[38;5;124;03m    \"\"\"\u001B[39;00m\n\u001B[0;32m   2758\u001B[0m     \u001B[38;5;28;01mreturn\u001B[39;00m (\n\u001B[0;32m   2759\u001B[0m         obj\u001B[38;5;241m.\u001B[39mstart \u001B[38;5;129;01mis\u001B[39;00m \u001B[38;5;129;01mnot\u001B[39;00m \u001B[38;5;28;01mNone\u001B[39;00m\n\u001B[0;32m   2760\u001B[0m         \u001B[38;5;129;01mor\u001B[39;00m obj\u001B[38;5;241m.\u001B[39mstop \u001B[38;5;129;01mis\u001B[39;00m \u001B[38;5;129;01mnot\u001B[39;00m \u001B[38;5;28;01mNone\u001B[39;00m\n\u001B[0;32m   2761\u001B[0m         \u001B[38;5;129;01mor\u001B[39;00m (obj\u001B[38;5;241m.\u001B[39mstep \u001B[38;5;129;01mis\u001B[39;00m \u001B[38;5;129;01mnot\u001B[39;00m \u001B[38;5;28;01mNone\u001B[39;00m \u001B[38;5;129;01mand\u001B[39;00m obj\u001B[38;5;241m.\u001B[39mstep \u001B[38;5;241m!=\u001B[39m \u001B[38;5;241m1\u001B[39m)\n\u001B[0;32m   2762\u001B[0m     )\n\u001B[1;32m-> 2765\u001B[0m \u001B[38;5;28;01mdef\u001B[39;00m \u001B[38;5;21mcheck_dict_or_set_indexers\u001B[39m(key) \u001B[38;5;241m-\u001B[39m\u001B[38;5;241m>\u001B[39m \u001B[38;5;28;01mNone\u001B[39;00m:\n\u001B[0;32m   2766\u001B[0m \u001B[38;5;250m    \u001B[39m\u001B[38;5;124;03m\"\"\"\u001B[39;00m\n\u001B[0;32m   2767\u001B[0m \u001B[38;5;124;03m    Check if the indexer is or contains a dict or set, which is no longer allowed.\u001B[39;00m\n\u001B[0;32m   2768\u001B[0m \u001B[38;5;124;03m    \"\"\"\u001B[39;00m\n\u001B[0;32m   2769\u001B[0m     \u001B[38;5;28;01mif\u001B[39;00m (\n\u001B[0;32m   2770\u001B[0m         \u001B[38;5;28misinstance\u001B[39m(key, \u001B[38;5;28mset\u001B[39m)\n\u001B[0;32m   2771\u001B[0m         \u001B[38;5;129;01mor\u001B[39;00m \u001B[38;5;28misinstance\u001B[39m(key, \u001B[38;5;28mtuple\u001B[39m)\n\u001B[0;32m   2772\u001B[0m         \u001B[38;5;129;01mand\u001B[39;00m \u001B[38;5;28many\u001B[39m(\u001B[38;5;28misinstance\u001B[39m(x, \u001B[38;5;28mset\u001B[39m) \u001B[38;5;28;01mfor\u001B[39;00m x \u001B[38;5;129;01min\u001B[39;00m key)\n\u001B[0;32m   2773\u001B[0m     ):\n",
      "\u001B[1;31mKeyboardInterrupt\u001B[0m: "
     ]
    }
   ],
   "execution_count": 3
  },
  {
   "metadata": {
    "ExecuteTime": {
     "end_time": "2025-01-29T13:07:11.804270800Z",
     "start_time": "2025-01-20T16:30:14.227418Z"
    }
   },
   "cell_type": "code",
   "source": "",
   "id": "9bbceebb80363c3c",
   "outputs": [],
   "execution_count": null
  }
 ],
 "metadata": {
  "kernelspec": {
   "display_name": "Python 3",
   "language": "python",
   "name": "python3"
  },
  "language_info": {
   "codemirror_mode": {
    "name": "ipython",
    "version": 2
   },
   "file_extension": ".py",
   "mimetype": "text/x-python",
   "name": "python",
   "nbconvert_exporter": "python",
   "pygments_lexer": "ipython2",
   "version": "2.7.6"
  }
 },
 "nbformat": 4,
 "nbformat_minor": 5
}

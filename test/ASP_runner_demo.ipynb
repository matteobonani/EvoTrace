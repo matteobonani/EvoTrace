{
 "cells": [
  {
   "cell_type": "code",
   "execution_count": null,
   "id": "initial_id",
   "metadata": {
    "collapsed": true
   },
   "outputs": [],
   "source": [
    "# imports and Setup\n",
    "import itertools\n",
    "import os\n",
    "import time\n",
    "import numpy as np\n",
    "from datetime import datetime\n",
    "from scipy.spatial.distance import pdist\n",
    "from Declare4Py.ProcessModels.DeclareModel import DeclareModel\n",
    "from Declare4Py.ProcessMiningTasks.LogGenerator.ASP.ASPLogGenerator import AspGenerator\n",
    "from ga_objects.utils.encoder import Encoder\n",
    "from ga_objects.utils.tools import Tools\n"
   ]
  },
  {
   "metadata": {},
   "cell_type": "code",
   "outputs": [],
   "execution_count": null,
   "source": [
    "# configurations\n",
    "\n",
    "# number of runs\n",
    "num_runs = 1\n",
    "\n",
    "# parameters for trace generation\n",
    "pop_list = [10]                      # size of the population\n",
    "num_event_list = [30]                 # choose from 30, 50, 70, 90\n",
    "declare_model_list = [\"model1\"]       # choose from model1, model2, model3, model4\n"
   ],
   "id": "3866e51e70ccc487"
  },
  {
   "metadata": {},
   "cell_type": "code",
   "outputs": [],
   "execution_count": null,
   "source": [
    "# setup output paths\n",
    "\n",
    "current_date = datetime.today().strftime('%m-%d-%H-%M')\n",
    "base_dir = os.getcwd()\n",
    "results_dir = os.path.join(base_dir, \"results\", current_date)\n",
    "os.makedirs(results_dir, exist_ok=True)\n",
    "\n",
    "result_file = os.path.join(results_dir, \"result.csv\")\n"
   ],
   "id": "5214014b0c56eb6c"
  },
  {
   "metadata": {},
   "cell_type": "code",
   "outputs": [],
   "execution_count": null,
   "source": [
    "# run ASP generation and encoding\n",
    "\n",
    "with open(result_file, \"w\") as f:\n",
    "    f.write(\"ID,Run,Model,PopulationSize,TraceLength,ExecTime,Diversity\\n\")\n",
    "\n",
    "    for run in range(1, num_runs + 1):\n",
    "        ID = 1\n",
    "        for pop_size, trace_length, model_name in itertools.product(pop_list, num_event_list, declare_model_list):\n",
    "\n",
    "            model_path = os.path.join(\"..\", \"declare_models\", model_name, f\"{model_name}.decl\")\n",
    "            model: DeclareModel = DeclareModel().parse_from_file(model_path)\n",
    "\n",
    "            print(f\"\\n🔧 Run {run} - ID {ID}: {model_name} | {trace_length} events | {pop_size} traces\")\n",
    "\n",
    "            asp_gen = AspGenerator(model, pop_size, trace_length, trace_length, verbose=False)\n",
    "\n",
    "            start_time = time.time()\n",
    "            asp_gen.run()\n",
    "            exec_time = time.time() - start_time\n",
    "\n",
    "            asp_gen.to_xes(\"ASP\")\n",
    "\n",
    "            encoder = Encoder(model.activities)\n",
    "            traces = Tools.extract_traces_from_xes(\"ASP.xes\", trace_length)\n",
    "            encoded_traces = [encoder.encode(trace) for trace in traces]\n",
    "\n",
    "            population = np.array(encoded_traces)\n",
    "            dist_matrix = pdist(population, metric='hamming')\n",
    "            diversity_score = dist_matrix.mean()\n",
    "\n",
    "            f.write(f\"{ID},{run},{model_name},{pop_size},{trace_length},{exec_time:.4f}s,{diversity_score:.6f}\\n\")\n",
    "            print(f\"Done in {exec_time:.2f}s | Diversity: {diversity_score:.4f}\")\n",
    "\n",
    "            ID += 1\n"
   ],
   "id": "b3dba49e15b029d5"
  },
  {
   "metadata": {},
   "cell_type": "code",
   "outputs": [],
   "execution_count": null,
   "source": [
    "# show results path\n",
    "\n",
    "print(f\"\\nResults saved to: {result_file}\")\n"
   ],
   "id": "7bf2cbe9173f6e48"
  }
 ],
 "metadata": {
  "kernelspec": {
   "display_name": "Python 3",
   "language": "python",
   "name": "python3"
  },
  "language_info": {
   "codemirror_mode": {
    "name": "ipython",
    "version": 2
   },
   "file_extension": ".py",
   "mimetype": "text/x-python",
   "name": "python",
   "nbconvert_exporter": "python",
   "pygments_lexer": "ipython2",
   "version": "2.7.6"
  }
 },
 "nbformat": 4,
 "nbformat_minor": 5
}

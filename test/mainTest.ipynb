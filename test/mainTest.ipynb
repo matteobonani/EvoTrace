{
 "cells": [
  {
   "cell_type": "code",
   "id": "initial_id",
   "metadata": {
    "collapsed": true,
    "ExecuteTime": {
     "end_time": "2025-03-01T13:07:21.052054Z",
     "start_time": "2025-03-01T13:07:17.637089Z"
    }
   },
   "source": [
    "import warnings\n",
    "import logging\n",
    "import itertools\n",
    "from utils.problemSetup import ProblemSetup\n",
    "from utils.testSetup import Setup\n",
    "from datetime import datetime\n",
    "from ga_objects.problem import ProblemMultiElementWise, ProblemMultiNoConstElementWise, ProblemSingleElementWise\n",
    "from pymoo.operators.crossover.sbx import SBX\n",
    "from ga_objects.mutation import IntegerPolynomialMutation\n",
    "\n",
    "logging.getLogger('matplotlib').setLevel(logging.WARNING)\n",
    "warnings.filterwarnings(\"ignore\", \".*feasible.*\")\n"
   ],
   "outputs": [],
   "execution_count": 1
  },
  {
   "metadata": {
    "ExecuteTime": {
     "end_time": "2025-03-01T13:07:21.083883Z",
     "start_time": "2025-03-01T13:07:21.056780Z"
    }
   },
   "cell_type": "code",
   "source": [
    "\n",
    "from ga_objects.mutation import RandomIntegerMutation\n",
    "\n",
    "feasible_init_pop = Setup.initial_population(\"../declare_models/model1_initial_pop.csv\",trace_length=50,trace_number=10)\n",
    "\n",
    "# test configuration lists\n",
    "pop_list = [3000]  # population sizes\n",
    "num_event_list = [50]  # trace lengths\n",
    "declare_model_list = [\"model1.decl\"]  # declare models\n",
    "mutation_list = [IntegerPolynomialMutation(prob=0.3, eta=20), IntegerPolynomialMutation(prob=0.8, eta=5), RandomIntegerMutation(0.7)]\n",
    "crossover_list = [SBX(prob=0.9, eta=8)]\n",
    "problem_list = [ProblemMultiElementWise, ProblemMultiNoConstElementWise, ProblemSingleElementWise]\n",
    "initial_population_list = [feasible_init_pop]\n"
   ],
   "id": "52cf0d6ce907030a",
   "outputs": [],
   "execution_count": 2
  },
  {
   "metadata": {
    "ExecuteTime": {
     "end_time": "2025-03-01T14:59:15.889420Z",
     "start_time": "2025-03-01T13:07:21.162526Z"
    }
   },
   "cell_type": "code",
   "source": [
    "current_date = datetime.today().strftime('%m-%d-%H')\n",
    "\n",
    "for run in range(1, 4):\n",
    "    file_name = f\"results/results_{current_date}.csv\"\n",
    "\n",
    "    with open(file_name, \"a\") as f:\n",
    "        f.write(\"ID,Population,TraceLength,Model,Problem,Mutation,\"\n",
    "                \"ExecutionTime,DiversityScore,ConstraintScore,NumberViolationScore,Iteration\\n\")\n",
    "        ID = 1\n",
    "\n",
    "        # iterate through all configurations\n",
    "        for combination in itertools.product(pop_list, num_event_list, declare_model_list, mutation_list, crossover_list, problem_list, initial_population_list):\n",
    "            pop_size, trace_length, model, mutation, crossover, problem, initial_population = combination\n",
    "\n",
    "            print(f\"Running ID={ID}: Population={pop_size}, TraceLength={trace_length}, Model={model}, Problem={problem.__name__}, Mutation={type(mutation).__name__}\")\n",
    "\n",
    "            problemSetup = ProblemSetup(pop_size, trace_length, f\"../declare_models/{model}\", mutation, crossover, problem, initial_population)\n",
    "            problemSetup.run_experiment(run, ID, f, model, f\"results/plots/run_{current_date}\", f\"results/encoded_traces/encoded_traces_{current_date}\")\n",
    "\n",
    "            ID += 1\n",
    "\n",
    "\n",
    "\n",
    "\n"
   ],
   "id": "886a498744b6debf",
   "outputs": [
    {
     "name": "stdout",
     "output_type": "stream",
     "text": [
      "Running ID=1: Population=3000, TraceLength=50, Model=model1.decl, Problem=ProblemMultiElementWise, Mutation=IntegerPolynomialMutation\n",
      "Execution Time (IntegerPolynomialMutation): 176.26 seconds\n",
      "Running ID=2: Population=3000, TraceLength=50, Model=model1.decl, Problem=ProblemMultiNoConstElementWise, Mutation=IntegerPolynomialMutation\n",
      "Termination: Max time of 1200 seconds reached!\n",
      "Execution Time (IntegerPolynomialMutation): 1201.65 seconds\n",
      "Running ID=3: Population=3000, TraceLength=50, Model=model1.decl, Problem=ProblemSingleElementWise, Mutation=IntegerPolynomialMutation\n",
      "Execution Time (IntegerPolynomialMutation): 198.56 seconds\n",
      "Running ID=4: Population=3000, TraceLength=50, Model=model1.decl, Problem=ProblemMultiElementWise, Mutation=IntegerPolynomialMutation\n",
      "Execution Time (IntegerPolynomialMutation): 122.40 seconds\n",
      "Running ID=5: Population=3000, TraceLength=50, Model=model1.decl, Problem=ProblemMultiNoConstElementWise, Mutation=IntegerPolynomialMutation\n",
      "Termination: Max time of 1200 seconds reached!\n",
      "Execution Time (IntegerPolynomialMutation): 1200.70 seconds\n",
      "Running ID=6: Population=3000, TraceLength=50, Model=model1.decl, Problem=ProblemSingleElementWise, Mutation=IntegerPolynomialMutation\n",
      "Execution Time (IntegerPolynomialMutation): 125.40 seconds\n",
      "Running ID=7: Population=3000, TraceLength=50, Model=model1.decl, Problem=ProblemMultiElementWise, Mutation=RandomIntegerMutation\n",
      "Termination: Max time of 1200 seconds reached!\n",
      "Execution Time (RandomIntegerMutation): 1204.51 seconds\n",
      "Running ID=8: Population=3000, TraceLength=50, Model=model1.decl, Problem=ProblemMultiNoConstElementWise, Mutation=RandomIntegerMutation\n",
      "Termination: Max time of 1200 seconds reached!\n",
      "Execution Time (RandomIntegerMutation): 1202.72 seconds\n",
      "Running ID=9: Population=3000, TraceLength=50, Model=model1.decl, Problem=ProblemSingleElementWise, Mutation=RandomIntegerMutation\n",
      "Termination: Max time of 1200 seconds reached!\n",
      "Execution Time (RandomIntegerMutation): 1202.61 seconds\n",
      "Running ID=1: Population=3000, TraceLength=50, Model=model1.decl, Problem=ProblemMultiElementWise, Mutation=IntegerPolynomialMutation\n"
     ]
    },
    {
     "ename": "KeyboardInterrupt",
     "evalue": "",
     "output_type": "error",
     "traceback": [
      "\u001B[1;31m---------------------------------------------------------------------------\u001B[0m",
      "\u001B[1;31mKeyboardInterrupt\u001B[0m                         Traceback (most recent call last)",
      "Cell \u001B[1;32mIn[3], line 18\u001B[0m\n\u001B[0;32m     15\u001B[0m \u001B[38;5;28mprint\u001B[39m(\u001B[38;5;124mf\u001B[39m\u001B[38;5;124m\"\u001B[39m\u001B[38;5;124mRunning ID=\u001B[39m\u001B[38;5;132;01m{\u001B[39;00mID\u001B[38;5;132;01m}\u001B[39;00m\u001B[38;5;124m: Population=\u001B[39m\u001B[38;5;132;01m{\u001B[39;00mpop_size\u001B[38;5;132;01m}\u001B[39;00m\u001B[38;5;124m, TraceLength=\u001B[39m\u001B[38;5;132;01m{\u001B[39;00mtrace_length\u001B[38;5;132;01m}\u001B[39;00m\u001B[38;5;124m, Model=\u001B[39m\u001B[38;5;132;01m{\u001B[39;00mmodel\u001B[38;5;132;01m}\u001B[39;00m\u001B[38;5;124m, Problem=\u001B[39m\u001B[38;5;132;01m{\u001B[39;00mproblem\u001B[38;5;241m.\u001B[39m\u001B[38;5;18m__name__\u001B[39m\u001B[38;5;132;01m}\u001B[39;00m\u001B[38;5;124m, Mutation=\u001B[39m\u001B[38;5;132;01m{\u001B[39;00m\u001B[38;5;28mtype\u001B[39m(mutation)\u001B[38;5;241m.\u001B[39m\u001B[38;5;18m__name__\u001B[39m\u001B[38;5;132;01m}\u001B[39;00m\u001B[38;5;124m\"\u001B[39m)\n\u001B[0;32m     17\u001B[0m problemSetup \u001B[38;5;241m=\u001B[39m ProblemSetup(pop_size, trace_length, \u001B[38;5;124mf\u001B[39m\u001B[38;5;124m\"\u001B[39m\u001B[38;5;124m../declare_models/\u001B[39m\u001B[38;5;132;01m{\u001B[39;00mmodel\u001B[38;5;132;01m}\u001B[39;00m\u001B[38;5;124m\"\u001B[39m, mutation, crossover, problem, initial_population)\n\u001B[1;32m---> 18\u001B[0m \u001B[43mproblemSetup\u001B[49m\u001B[38;5;241;43m.\u001B[39;49m\u001B[43mrun_experiment\u001B[49m\u001B[43m(\u001B[49m\u001B[43mrun\u001B[49m\u001B[43m,\u001B[49m\u001B[43m \u001B[49m\u001B[43mID\u001B[49m\u001B[43m,\u001B[49m\u001B[43m \u001B[49m\u001B[43mf\u001B[49m\u001B[43m,\u001B[49m\u001B[43m \u001B[49m\u001B[43mmodel\u001B[49m\u001B[43m,\u001B[49m\u001B[43m \u001B[49m\u001B[38;5;124;43mf\u001B[39;49m\u001B[38;5;124;43m\"\u001B[39;49m\u001B[38;5;124;43mresults/plots/run_\u001B[39;49m\u001B[38;5;132;43;01m{\u001B[39;49;00m\u001B[43mcurrent_date\u001B[49m\u001B[38;5;132;43;01m}\u001B[39;49;00m\u001B[38;5;124;43m\"\u001B[39;49m\u001B[43m,\u001B[49m\u001B[43m \u001B[49m\u001B[38;5;124;43mf\u001B[39;49m\u001B[38;5;124;43m\"\u001B[39;49m\u001B[38;5;124;43mresults/encoded_traces/encoded_traces_\u001B[39;49m\u001B[38;5;132;43;01m{\u001B[39;49;00m\u001B[43mcurrent_date\u001B[49m\u001B[38;5;132;43;01m}\u001B[39;49;00m\u001B[38;5;124;43m\"\u001B[39;49m\u001B[43m)\u001B[49m\n\u001B[0;32m     20\u001B[0m ID \u001B[38;5;241m+\u001B[39m\u001B[38;5;241m=\u001B[39m \u001B[38;5;241m1\u001B[39m\n",
      "File \u001B[1;32m~\\Documents\\UNI\\GA_trace_generator\\utils\\problemSetup.py:173\u001B[0m, in \u001B[0;36mProblemSetup.run_experiment\u001B[1;34m(self, run, ID, file, model_name, plot_path, solution_path)\u001B[0m\n\u001B[0;32m    168\u001B[0m terminator \u001B[38;5;241m=\u001B[39m MyTermination(\u001B[38;5;28mself\u001B[39m\u001B[38;5;241m.\u001B[39mpop_size, algorithm_args[\u001B[38;5;124m\"\u001B[39m\u001B[38;5;124mconstraint_location\u001B[39m\u001B[38;5;124m\"\u001B[39m], algorithm_args[\u001B[38;5;124m\"\u001B[39m\u001B[38;5;124mconstraint_index\u001B[39m\u001B[38;5;124m\"\u001B[39m], \u001B[38;5;241m1200\u001B[39m)\n\u001B[0;32m    170\u001B[0m \u001B[38;5;28;01mtry\u001B[39;00m:\n\u001B[0;32m    172\u001B[0m     exec_time, constraint_scores, first_objective, second_objective, n_generations, population \u001B[38;5;241m=\u001B[39m (\n\u001B[1;32m--> 173\u001B[0m         \u001B[43mSetup\u001B[49m\u001B[38;5;241;43m.\u001B[39;49m\u001B[43mrun_result\u001B[49m\u001B[43m(\u001B[49m\u001B[43mproblem_instance\u001B[49m\u001B[43m,\u001B[49m\u001B[43m \u001B[49m\u001B[43malgorithm\u001B[49m\u001B[43m,\u001B[49m\u001B[43m \u001B[49m\u001B[43mterminator\u001B[49m\u001B[43m,\u001B[49m\u001B[43m \u001B[49m\u001B[38;5;28;43;01mFalse\u001B[39;49;00m\u001B[43m)\u001B[49m)\n\u001B[0;32m    175\u001B[0m     scores_args \u001B[38;5;241m=\u001B[39m get_result_scores_arguments(problem_instance, constraint_scores, first_objective, second_objective)\n\u001B[0;32m    178\u001B[0m     Setup\u001B[38;5;241m.\u001B[39mrecord_experiment_results(file, run, ID, \u001B[38;5;28mself\u001B[39m\u001B[38;5;241m.\u001B[39mpop_size, \u001B[38;5;28mself\u001B[39m\u001B[38;5;241m.\u001B[39mtrace_length, model_name, \u001B[38;5;28mtype\u001B[39m(\u001B[38;5;28mself\u001B[39m\u001B[38;5;241m.\u001B[39mmutation)\u001B[38;5;241m.\u001B[39m\u001B[38;5;18m__name__\u001B[39m,\n\u001B[0;32m    179\u001B[0m                                     \u001B[38;5;28mself\u001B[39m\u001B[38;5;241m.\u001B[39mproblem\u001B[38;5;241m.\u001B[39m\u001B[38;5;18m__name__\u001B[39m, exec_time, scores_args[\u001B[38;5;124m\"\u001B[39m\u001B[38;5;124mdiversity_scores\u001B[39m\u001B[38;5;124m\"\u001B[39m], scores_args[\u001B[38;5;124m\"\u001B[39m\u001B[38;5;124mconstraint_scores\u001B[39m\u001B[38;5;124m\"\u001B[39m],\n\u001B[0;32m    180\u001B[0m                                     scores_args[\u001B[38;5;124m\"\u001B[39m\u001B[38;5;124mn_violations_scores\u001B[39m\u001B[38;5;124m\"\u001B[39m])\n",
      "File \u001B[1;32m~\\Documents\\UNI\\GA_trace_generator\\utils\\testSetup.py:57\u001B[0m, in \u001B[0;36mSetup.run_result\u001B[1;34m(problem, algorithm, termination, verbose)\u001B[0m\n\u001B[0;32m     18\u001B[0m \u001B[38;5;129m@staticmethod\u001B[39m\n\u001B[0;32m     19\u001B[0m \u001B[38;5;28;01mdef\u001B[39;00m \u001B[38;5;21mrun_result\u001B[39m(problem, algorithm, termination, verbose):\n\u001B[0;32m     20\u001B[0m \u001B[38;5;250m    \u001B[39m\u001B[38;5;124;03m\"\"\"\u001B[39;00m\n\u001B[0;32m     21\u001B[0m \u001B[38;5;124;03m    Executes the optimization process and returns relevant experiment data.\u001B[39;00m\n\u001B[0;32m     22\u001B[0m \n\u001B[1;32m   (...)\u001B[0m\n\u001B[0;32m     55\u001B[0m \u001B[38;5;124;03m        The final population after optimization.\u001B[39;00m\n\u001B[0;32m     56\u001B[0m \u001B[38;5;124;03m    \"\"\"\u001B[39;00m\n\u001B[1;32m---> 57\u001B[0m     result \u001B[38;5;241m=\u001B[39m \u001B[43mminimize\u001B[49m\u001B[43m(\u001B[49m\u001B[43mproblem\u001B[49m\u001B[43m,\u001B[49m\u001B[43m \u001B[49m\u001B[43malgorithm\u001B[49m\u001B[43m,\u001B[49m\u001B[43m \u001B[49m\u001B[43mtermination\u001B[49m\u001B[38;5;241;43m=\u001B[39;49m\u001B[43mtermination\u001B[49m\u001B[43m,\u001B[49m\u001B[43m \u001B[49m\u001B[43mverbose\u001B[49m\u001B[38;5;241;43m=\u001B[39;49m\u001B[43mverbose\u001B[49m\u001B[43m)\u001B[49m\n\u001B[0;32m     58\u001B[0m     exec_time \u001B[38;5;241m=\u001B[39m result\u001B[38;5;241m.\u001B[39mexec_time\n\u001B[0;32m     60\u001B[0m     \u001B[38;5;66;03m# extract callback data\u001B[39;00m\n",
      "File \u001B[1;32m~\\anaconda3\\envs\\myenv\\lib\\site-packages\\pymoo\\optimize.py:67\u001B[0m, in \u001B[0;36mminimize\u001B[1;34m(problem, algorithm, termination, copy_algorithm, copy_termination, **kwargs)\u001B[0m\n\u001B[0;32m     64\u001B[0m     algorithm\u001B[38;5;241m.\u001B[39msetup(problem, \u001B[38;5;241m*\u001B[39m\u001B[38;5;241m*\u001B[39mkwargs)\n\u001B[0;32m     66\u001B[0m \u001B[38;5;66;03m# actually execute the algorithm\u001B[39;00m\n\u001B[1;32m---> 67\u001B[0m res \u001B[38;5;241m=\u001B[39m \u001B[43malgorithm\u001B[49m\u001B[38;5;241;43m.\u001B[39;49m\u001B[43mrun\u001B[49m\u001B[43m(\u001B[49m\u001B[43m)\u001B[49m\n\u001B[0;32m     69\u001B[0m \u001B[38;5;66;03m# store the deep copied algorithm in the result object\u001B[39;00m\n\u001B[0;32m     70\u001B[0m res\u001B[38;5;241m.\u001B[39malgorithm \u001B[38;5;241m=\u001B[39m algorithm\n",
      "File \u001B[1;32m~\\anaconda3\\envs\\myenv\\lib\\site-packages\\pymoo\\core\\algorithm.py:138\u001B[0m, in \u001B[0;36mAlgorithm.run\u001B[1;34m(self)\u001B[0m\n\u001B[0;32m    136\u001B[0m \u001B[38;5;28;01mdef\u001B[39;00m \u001B[38;5;21mrun\u001B[39m(\u001B[38;5;28mself\u001B[39m):\n\u001B[0;32m    137\u001B[0m     \u001B[38;5;28;01mwhile\u001B[39;00m \u001B[38;5;28mself\u001B[39m\u001B[38;5;241m.\u001B[39mhas_next():\n\u001B[1;32m--> 138\u001B[0m         \u001B[38;5;28;43mself\u001B[39;49m\u001B[38;5;241;43m.\u001B[39;49m\u001B[43mnext\u001B[49m\u001B[43m(\u001B[49m\u001B[43m)\u001B[49m\n\u001B[0;32m    139\u001B[0m     \u001B[38;5;28;01mreturn\u001B[39;00m \u001B[38;5;28mself\u001B[39m\u001B[38;5;241m.\u001B[39mresult()\n",
      "File \u001B[1;32m~\\anaconda3\\envs\\myenv\\lib\\site-packages\\pymoo\\core\\algorithm.py:158\u001B[0m, in \u001B[0;36mAlgorithm.next\u001B[1;34m(self)\u001B[0m\n\u001B[0;32m    156\u001B[0m \u001B[38;5;66;03m# call the advance with them after evaluation\u001B[39;00m\n\u001B[0;32m    157\u001B[0m \u001B[38;5;28;01mif\u001B[39;00m infills \u001B[38;5;129;01mis\u001B[39;00m \u001B[38;5;129;01mnot\u001B[39;00m \u001B[38;5;28;01mNone\u001B[39;00m:\n\u001B[1;32m--> 158\u001B[0m     \u001B[38;5;28;43mself\u001B[39;49m\u001B[38;5;241;43m.\u001B[39;49m\u001B[43mevaluator\u001B[49m\u001B[38;5;241;43m.\u001B[39;49m\u001B[43meval\u001B[49m\u001B[43m(\u001B[49m\u001B[38;5;28;43mself\u001B[39;49m\u001B[38;5;241;43m.\u001B[39;49m\u001B[43mproblem\u001B[49m\u001B[43m,\u001B[49m\u001B[43m \u001B[49m\u001B[43minfills\u001B[49m\u001B[43m,\u001B[49m\u001B[43m \u001B[49m\u001B[43malgorithm\u001B[49m\u001B[38;5;241;43m=\u001B[39;49m\u001B[38;5;28;43mself\u001B[39;49m\u001B[43m)\u001B[49m\n\u001B[0;32m    159\u001B[0m     \u001B[38;5;28mself\u001B[39m\u001B[38;5;241m.\u001B[39madvance(infills\u001B[38;5;241m=\u001B[39minfills)\n\u001B[0;32m    161\u001B[0m \u001B[38;5;66;03m# if the algorithm does not follow the infill-advance scheme just call advance\u001B[39;00m\n\u001B[0;32m    162\u001B[0m \u001B[38;5;28;01melse\u001B[39;00m:\n",
      "File \u001B[1;32m~\\anaconda3\\envs\\myenv\\lib\\site-packages\\pymoo\\core\\evaluator.py:69\u001B[0m, in \u001B[0;36mEvaluator.eval\u001B[1;34m(self, problem, pop, skip_already_evaluated, evaluate_values_of, count_evals, **kwargs)\u001B[0m\n\u001B[0;32m     65\u001B[0m \u001B[38;5;66;03m# evaluate the solutions (if there are any)\u001B[39;00m\n\u001B[0;32m     66\u001B[0m \u001B[38;5;28;01mif\u001B[39;00m \u001B[38;5;28mlen\u001B[39m(I) \u001B[38;5;241m>\u001B[39m \u001B[38;5;241m0\u001B[39m:\n\u001B[0;32m     67\u001B[0m \n\u001B[0;32m     68\u001B[0m     \u001B[38;5;66;03m# do the actual evaluation - call the sub-function to set the corresponding values to the population\u001B[39;00m\n\u001B[1;32m---> 69\u001B[0m     \u001B[38;5;28mself\u001B[39m\u001B[38;5;241m.\u001B[39m_eval(problem, pop[I], evaluate_values_of, \u001B[38;5;241m*\u001B[39m\u001B[38;5;241m*\u001B[39mkwargs)\n\u001B[0;32m     71\u001B[0m \u001B[38;5;66;03m# update the function evaluation counter\u001B[39;00m\n\u001B[0;32m     72\u001B[0m \u001B[38;5;28;01mif\u001B[39;00m count_evals:\n",
      "File \u001B[1;32m~\\anaconda3\\envs\\myenv\\lib\\site-packages\\pymoo\\core\\evaluator.py:90\u001B[0m, in \u001B[0;36mEvaluator._eval\u001B[1;34m(self, problem, pop, evaluate_values_of, **kwargs)\u001B[0m\n\u001B[0;32m     87\u001B[0m X \u001B[38;5;241m=\u001B[39m pop\u001B[38;5;241m.\u001B[39mget(\u001B[38;5;124m\"\u001B[39m\u001B[38;5;124mX\u001B[39m\u001B[38;5;124m\"\u001B[39m)\n\u001B[0;32m     89\u001B[0m \u001B[38;5;66;03m# call the problem to evaluate the solutions\u001B[39;00m\n\u001B[1;32m---> 90\u001B[0m out \u001B[38;5;241m=\u001B[39m problem\u001B[38;5;241m.\u001B[39mevaluate(X, return_values_of\u001B[38;5;241m=\u001B[39mevaluate_values_of, return_as_dictionary\u001B[38;5;241m=\u001B[39m\u001B[38;5;28;01mTrue\u001B[39;00m, \u001B[38;5;241m*\u001B[39m\u001B[38;5;241m*\u001B[39mkwargs)\n\u001B[0;32m     92\u001B[0m \u001B[38;5;66;03m# for each of the attributes set it to the problem\u001B[39;00m\n\u001B[0;32m     93\u001B[0m \u001B[38;5;28;01mfor\u001B[39;00m key, val \u001B[38;5;129;01min\u001B[39;00m out\u001B[38;5;241m.\u001B[39mitems():\n",
      "File \u001B[1;32m~\\anaconda3\\envs\\myenv\\lib\\site-packages\\pymoo\\core\\problem.py:257\u001B[0m, in \u001B[0;36mProblem.evaluate\u001B[1;34m(self, X, return_values_of, return_as_dictionary, *args, **kwargs)\u001B[0m\n\u001B[0;32m    254\u001B[0m     only_single_value \u001B[38;5;241m=\u001B[39m \u001B[38;5;129;01mnot\u001B[39;00m (\u001B[38;5;28misinstance\u001B[39m(X, \u001B[38;5;28mlist\u001B[39m) \u001B[38;5;129;01mor\u001B[39;00m \u001B[38;5;28misinstance\u001B[39m(X, np\u001B[38;5;241m.\u001B[39mndarray))\n\u001B[0;32m    256\u001B[0m \u001B[38;5;66;03m# this is where the actual evaluation takes place\u001B[39;00m\n\u001B[1;32m--> 257\u001B[0m _out \u001B[38;5;241m=\u001B[39m \u001B[38;5;28mself\u001B[39m\u001B[38;5;241m.\u001B[39mdo(X, return_values_of, \u001B[38;5;241m*\u001B[39margs, \u001B[38;5;241m*\u001B[39m\u001B[38;5;241m*\u001B[39mkwargs)\n\u001B[0;32m    259\u001B[0m out \u001B[38;5;241m=\u001B[39m {}\n\u001B[0;32m    260\u001B[0m \u001B[38;5;28;01mfor\u001B[39;00m k, v \u001B[38;5;129;01min\u001B[39;00m _out\u001B[38;5;241m.\u001B[39mitems():\n\u001B[0;32m    261\u001B[0m \n\u001B[0;32m    262\u001B[0m     \u001B[38;5;66;03m# copy it to a numpy array (it might be one of jax at this point)\u001B[39;00m\n",
      "File \u001B[1;32m~\\anaconda3\\envs\\myenv\\lib\\site-packages\\pymoo\\core\\problem.py:297\u001B[0m, in \u001B[0;36mProblem.do\u001B[1;34m(self, X, return_values_of, *args, **kwargs)\u001B[0m\n\u001B[0;32m    295\u001B[0m \u001B[38;5;66;03m# do the function evaluation\u001B[39;00m\n\u001B[0;32m    296\u001B[0m \u001B[38;5;28;01mif\u001B[39;00m \u001B[38;5;28mself\u001B[39m\u001B[38;5;241m.\u001B[39melementwise:\n\u001B[1;32m--> 297\u001B[0m     \u001B[38;5;28mself\u001B[39m\u001B[38;5;241m.\u001B[39m_evaluate_elementwise(X, out, \u001B[38;5;241m*\u001B[39margs, \u001B[38;5;241m*\u001B[39m\u001B[38;5;241m*\u001B[39mkwargs)\n\u001B[0;32m    298\u001B[0m \u001B[38;5;28;01melse\u001B[39;00m:\n\u001B[0;32m    299\u001B[0m     \u001B[38;5;28mself\u001B[39m\u001B[38;5;241m.\u001B[39m_evaluate_vectorized(X, out, \u001B[38;5;241m*\u001B[39margs, \u001B[38;5;241m*\u001B[39m\u001B[38;5;241m*\u001B[39mkwargs)\n",
      "File \u001B[1;32m~\\anaconda3\\envs\\myenv\\lib\\site-packages\\pymoo\\core\\problem.py:315\u001B[0m, in \u001B[0;36mProblem._evaluate_elementwise\u001B[1;34m(self, X, out, *args, **kwargs)\u001B[0m\n\u001B[0;32m    312\u001B[0m f \u001B[38;5;241m=\u001B[39m \u001B[38;5;28mself\u001B[39m\u001B[38;5;241m.\u001B[39melementwise_func(\u001B[38;5;28mself\u001B[39m, args, kwargs)\n\u001B[0;32m    314\u001B[0m \u001B[38;5;66;03m# execute the runner\u001B[39;00m\n\u001B[1;32m--> 315\u001B[0m elems \u001B[38;5;241m=\u001B[39m \u001B[38;5;28;43mself\u001B[39;49m\u001B[38;5;241;43m.\u001B[39;49m\u001B[43melementwise_runner\u001B[49m\u001B[43m(\u001B[49m\u001B[43mf\u001B[49m\u001B[43m,\u001B[49m\u001B[43m \u001B[49m\u001B[43mX\u001B[49m\u001B[43m)\u001B[49m\n\u001B[0;32m    317\u001B[0m \u001B[38;5;66;03m# for each evaluation call\u001B[39;00m\n\u001B[0;32m    318\u001B[0m \u001B[38;5;28;01mfor\u001B[39;00m elem \u001B[38;5;129;01min\u001B[39;00m elems:\n\u001B[0;32m    319\u001B[0m \n\u001B[0;32m    320\u001B[0m     \u001B[38;5;66;03m# for each key stored for this evaluation\u001B[39;00m\n",
      "File \u001B[1;32m~\\anaconda3\\envs\\myenv\\lib\\site-packages\\pymoo\\core\\problem.py:32\u001B[0m, in \u001B[0;36mLoopedElementwiseEvaluation.__call__\u001B[1;34m(self, f, X)\u001B[0m\n\u001B[0;32m     31\u001B[0m \u001B[38;5;28;01mdef\u001B[39;00m \u001B[38;5;21m__call__\u001B[39m(\u001B[38;5;28mself\u001B[39m, f, X):\n\u001B[1;32m---> 32\u001B[0m     \u001B[38;5;28;01mreturn\u001B[39;00m [f(x) \u001B[38;5;28;01mfor\u001B[39;00m x \u001B[38;5;129;01min\u001B[39;00m X]\n",
      "File \u001B[1;32m~\\anaconda3\\envs\\myenv\\lib\\site-packages\\pymoo\\core\\problem.py:32\u001B[0m, in \u001B[0;36m<listcomp>\u001B[1;34m(.0)\u001B[0m\n\u001B[0;32m     31\u001B[0m \u001B[38;5;28;01mdef\u001B[39;00m \u001B[38;5;21m__call__\u001B[39m(\u001B[38;5;28mself\u001B[39m, f, X):\n\u001B[1;32m---> 32\u001B[0m     \u001B[38;5;28;01mreturn\u001B[39;00m [\u001B[43mf\u001B[49m\u001B[43m(\u001B[49m\u001B[43mx\u001B[49m\u001B[43m)\u001B[49m \u001B[38;5;28;01mfor\u001B[39;00m x \u001B[38;5;129;01min\u001B[39;00m X]\n",
      "File \u001B[1;32m~\\anaconda3\\envs\\myenv\\lib\\site-packages\\pymoo\\core\\problem.py:25\u001B[0m, in \u001B[0;36mElementwiseEvaluationFunction.__call__\u001B[1;34m(self, x)\u001B[0m\n\u001B[0;32m     23\u001B[0m \u001B[38;5;28;01mdef\u001B[39;00m \u001B[38;5;21m__call__\u001B[39m(\u001B[38;5;28mself\u001B[39m, x):\n\u001B[0;32m     24\u001B[0m     out \u001B[38;5;241m=\u001B[39m \u001B[38;5;28mdict\u001B[39m()\n\u001B[1;32m---> 25\u001B[0m     \u001B[38;5;28mself\u001B[39m\u001B[38;5;241m.\u001B[39mproblem\u001B[38;5;241m.\u001B[39m_evaluate(x, out, \u001B[38;5;241m*\u001B[39m\u001B[38;5;28mself\u001B[39m\u001B[38;5;241m.\u001B[39margs, \u001B[38;5;241m*\u001B[39m\u001B[38;5;241m*\u001B[39m\u001B[38;5;28mself\u001B[39m\u001B[38;5;241m.\u001B[39mkwargs)\n\u001B[0;32m     26\u001B[0m     \u001B[38;5;28;01mreturn\u001B[39;00m out\n",
      "File \u001B[1;32m~\\Documents\\UNI\\GA_trace_generator\\ga_objects\\problem.py:129\u001B[0m, in \u001B[0;36mProblemMultiElementWise._evaluate\u001B[1;34m(self, x, out, *args, **kwargs)\u001B[0m\n\u001B[0;32m    127\u001B[0m \u001B[38;5;28;01mdef\u001B[39;00m \u001B[38;5;21m_evaluate\u001B[39m(\u001B[38;5;28mself\u001B[39m, x, out, \u001B[38;5;241m*\u001B[39margs, \u001B[38;5;241m*\u001B[39m\u001B[38;5;241m*\u001B[39mkwargs):\n\u001B[0;32m    128\u001B[0m     constraint_score, violation_score \u001B[38;5;241m=\u001B[39m \u001B[38;5;28mself\u001B[39m\u001B[38;5;241m.\u001B[39mevaluate_constraints(x)\n\u001B[1;32m--> 129\u001B[0m     diversity_score \u001B[38;5;241m=\u001B[39m \u001B[38;5;241m-\u001B[39m\u001B[38;5;28;43mself\u001B[39;49m\u001B[38;5;241;43m.\u001B[39;49m\u001B[43mcalculate_diversity\u001B[49m\u001B[43m(\u001B[49m\u001B[43mx\u001B[49m\u001B[43m,\u001B[49m\u001B[43m \u001B[49m\u001B[38;5;28;43mself\u001B[39;49m\u001B[38;5;241;43m.\u001B[39;49m\u001B[43mcurrent_population\u001B[49m\u001B[43m)\u001B[49m\n\u001B[0;32m    131\u001B[0m     out[\u001B[38;5;124m\"\u001B[39m\u001B[38;5;124mG\u001B[39m\u001B[38;5;124m\"\u001B[39m] \u001B[38;5;241m=\u001B[39m [constraint_score]  \u001B[38;5;66;03m# feasible if <= 0\u001B[39;00m\n\u001B[0;32m    132\u001B[0m     out[\u001B[38;5;124m\"\u001B[39m\u001B[38;5;124mF\u001B[39m\u001B[38;5;124m\"\u001B[39m] \u001B[38;5;241m=\u001B[39m [diversity_score, violation_score]\n",
      "File \u001B[1;32m~\\Documents\\UNI\\GA_trace_generator\\ga_objects\\problem.py:76\u001B[0m, in \u001B[0;36mBaseProblem.calculate_diversity\u001B[1;34m(self, trace, population)\u001B[0m\n\u001B[0;32m     74\u001B[0m \u001B[38;5;28;01mdef\u001B[39;00m \u001B[38;5;21mcalculate_diversity\u001B[39m(\u001B[38;5;28mself\u001B[39m, trace, population):\n\u001B[0;32m     75\u001B[0m \u001B[38;5;250m    \u001B[39m\u001B[38;5;124;03m\"\"\"Calculate diversity as the average Hamming Distance of the trace.\"\"\"\u001B[39;00m\n\u001B[1;32m---> 76\u001B[0m     \u001B[38;5;28;01mreturn\u001B[39;00m np\u001B[38;5;241m.\u001B[39mmean(\u001B[43mnp\u001B[49m\u001B[38;5;241;43m.\u001B[39;49m\u001B[43msum\u001B[49m\u001B[43m(\u001B[49m\u001B[43mpopulation\u001B[49m\u001B[43m \u001B[49m\u001B[38;5;241;43m!=\u001B[39;49m\u001B[43m \u001B[49m\u001B[43mtrace\u001B[49m\u001B[43m,\u001B[49m\u001B[43m \u001B[49m\u001B[43maxis\u001B[49m\u001B[38;5;241;43m=\u001B[39;49m\u001B[38;5;241;43m1\u001B[39;49m\u001B[43m)\u001B[49m)\n",
      "File \u001B[1;32m~\\anaconda3\\envs\\myenv\\lib\\site-packages\\numpy\\core\\fromnumeric.py:2172\u001B[0m, in \u001B[0;36m_sum_dispatcher\u001B[1;34m(a, axis, dtype, out, keepdims, initial, where)\u001B[0m\n\u001B[0;32m   2102\u001B[0m \u001B[38;5;250m    \u001B[39m\u001B[38;5;124;03m\"\"\"\u001B[39;00m\n\u001B[0;32m   2103\u001B[0m \u001B[38;5;124;03m    Clip (limit) the values in an array.\u001B[39;00m\n\u001B[0;32m   2104\u001B[0m \n\u001B[1;32m   (...)\u001B[0m\n\u001B[0;32m   2167\u001B[0m \n\u001B[0;32m   2168\u001B[0m \u001B[38;5;124;03m    \"\"\"\u001B[39;00m\n\u001B[0;32m   2169\u001B[0m     \u001B[38;5;28;01mreturn\u001B[39;00m _wrapfunc(a, \u001B[38;5;124m'\u001B[39m\u001B[38;5;124mclip\u001B[39m\u001B[38;5;124m'\u001B[39m, a_min, a_max, out\u001B[38;5;241m=\u001B[39mout, \u001B[38;5;241m*\u001B[39m\u001B[38;5;241m*\u001B[39mkwargs)\n\u001B[1;32m-> 2172\u001B[0m \u001B[38;5;28;01mdef\u001B[39;00m \u001B[38;5;21m_sum_dispatcher\u001B[39m(a, axis\u001B[38;5;241m=\u001B[39m\u001B[38;5;28;01mNone\u001B[39;00m, dtype\u001B[38;5;241m=\u001B[39m\u001B[38;5;28;01mNone\u001B[39;00m, out\u001B[38;5;241m=\u001B[39m\u001B[38;5;28;01mNone\u001B[39;00m, keepdims\u001B[38;5;241m=\u001B[39m\u001B[38;5;28;01mNone\u001B[39;00m,\n\u001B[0;32m   2173\u001B[0m                     initial\u001B[38;5;241m=\u001B[39m\u001B[38;5;28;01mNone\u001B[39;00m, where\u001B[38;5;241m=\u001B[39m\u001B[38;5;28;01mNone\u001B[39;00m):\n\u001B[0;32m   2174\u001B[0m     \u001B[38;5;28;01mreturn\u001B[39;00m (a, out)\n\u001B[0;32m   2177\u001B[0m \u001B[38;5;129m@array_function_dispatch\u001B[39m(_sum_dispatcher)\n\u001B[0;32m   2178\u001B[0m \u001B[38;5;28;01mdef\u001B[39;00m \u001B[38;5;21msum\u001B[39m(a, axis\u001B[38;5;241m=\u001B[39m\u001B[38;5;28;01mNone\u001B[39;00m, dtype\u001B[38;5;241m=\u001B[39m\u001B[38;5;28;01mNone\u001B[39;00m, out\u001B[38;5;241m=\u001B[39m\u001B[38;5;28;01mNone\u001B[39;00m, keepdims\u001B[38;5;241m=\u001B[39mnp\u001B[38;5;241m.\u001B[39m_NoValue,\n\u001B[0;32m   2179\u001B[0m         initial\u001B[38;5;241m=\u001B[39mnp\u001B[38;5;241m.\u001B[39m_NoValue, where\u001B[38;5;241m=\u001B[39mnp\u001B[38;5;241m.\u001B[39m_NoValue):\n",
      "\u001B[1;31mKeyboardInterrupt\u001B[0m: "
     ]
    }
   ],
   "execution_count": 3
  }
 ],
 "metadata": {
  "kernelspec": {
   "display_name": "Python 3",
   "language": "python",
   "name": "python3"
  },
  "language_info": {
   "codemirror_mode": {
    "name": "ipython",
    "version": 2
   },
   "file_extension": ".py",
   "mimetype": "text/x-python",
   "name": "python",
   "nbconvert_exporter": "python",
   "pygments_lexer": "ipython2",
   "version": "2.7.6"
  }
 },
 "nbformat": 4,
 "nbformat_minor": 5
}

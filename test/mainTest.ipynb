{
 "cells": [
  {
   "cell_type": "code",
   "id": "initial_id",
   "metadata": {
    "collapsed": true,
    "ExecuteTime": {
     "end_time": "2025-04-19T19:35:11.615744Z",
     "start_time": "2025-04-19T19:35:08.865529Z"
    }
   },
   "source": [
    "import warnings\n",
    "import logging\n",
    "import itertools\n",
    "from utils.problemSetup import ProblemSetup\n",
    "from utils.testSetup import Setup\n",
    "from datetime import datetime\n",
    "from ga_objects.problem import ProblemMultiElementWise, ProblemMultiNoConstElementWise, ProblemSingleElementWise, ProblemSingle\n",
    "from pymoo.operators.crossover.sbx import SBX\n",
    "from ga_objects.mutation import IntegerPolynomialMutation\n",
    "import os\n",
    "from ga_objects.terminator import DiversityTermination\n",
    "\n",
    "logging.getLogger('matplotlib').setLevel(logging.WARNING)\n",
    "warnings.filterwarnings(\"ignore\", \".*feasible.*\")\n"
   ],
   "outputs": [],
   "execution_count": 1
  },
  {
   "metadata": {
    "ExecuteTime": {
     "end_time": "2025-04-19T19:35:11.631763Z",
     "start_time": "2025-04-19T19:35:11.619747Z"
    }
   },
   "cell_type": "code",
   "source": [
    "from ga_objects.crossover import UniformCrossover\n",
    "from ga_objects.problem import ProblemMulti, ProblemMultiObjectiveNovelty, ProblemSingleSing\n",
    "from pymoo.operators.crossover.pntx import PointCrossover, SinglePointCrossover, TwoPointCrossover\n",
    "\n",
    "# test configuration lists\n",
    "\n",
    "pop_list = [4000]\n",
    "num_event_list = [90]\n",
    "declare_model_list = [\"model4.decl\"]\n",
    "mutation_list = [IntegerPolynomialMutation(prob=0.5, eta=1)] # higher eta value results in smaller mutations (more localized changes), lower eta value leads to larger mutations (more exploratory behavior).\n",
    "crossover_list = [UniformCrossover(prob=0.9), TwoPointCrossover(prob=0.9)] # eta was default 8\n",
    "problem_list = [ProblemSingle]\n",
    "termination_list = [DiversityTermination(0.9, 300)]\n",
    "\n"
   ],
   "id": "52cf0d6ce907030a",
   "outputs": [],
   "execution_count": 2
  },
  {
   "metadata": {
    "ExecuteTime": {
     "end_time": "2025-04-19T19:45:21.556150Z",
     "start_time": "2025-04-19T19:35:11.693845Z"
    }
   },
   "cell_type": "code",
   "source": [
    "current_date = datetime.today().strftime('%m-%d-%H-%M')\n",
    "\n",
    "for run in range(1, 2):\n",
    "    directory = f\"results/{current_date}\"\n",
    "    os.makedirs(directory, exist_ok=True)\n",
    "    file_name = f\"{directory}/result.csv\"\n",
    "\n",
    "    with open(file_name, \"a\") as f:\n",
    "        f.write(\"ID,Population,TraceLength,Model,Problem,Mutation,Termination,\"\n",
    "                \"ExecutionTime,DiversityScore,ConstraintScore,Generations,Iteration\\n\")\n",
    "        ID = 1\n",
    "\n",
    "        # iterate through all configurations\n",
    "        for combination in itertools.product(pop_list, num_event_list, declare_model_list, mutation_list, crossover_list,\n",
    "                                             problem_list,termination_list):\n",
    "            pop_size, trace_length, model, mutation, crossover, problem, termination = combination\n",
    "\n",
    "\n",
    "            print(f\"Running ID={ID}: Population={pop_size}, TraceLength={trace_length}, Model={model}, \"\n",
    "                  f\"Problem={problem.__name__}, Mutation={type(mutation).__name__} eta={mutation.eta} prob={mutation.prob.value}, Crossover={type(crossover).__name__}. Termination={type(termination).__name__}\")\n",
    "\n",
    "            problemSetup = ProblemSetup(pop_size, trace_length, model, mutation, crossover, problem, termination)\n",
    "            problemSetup.run_experiment(run, ID, f, model, f\"{directory}/plots\", f\"{directory}/encoded_traces\")\n",
    "\n",
    "            ID += 1"
   ],
   "id": "886a498744b6debf",
   "outputs": [
    {
     "name": "stdout",
     "output_type": "stream",
     "text": [
      "Running ID=1: Population=4000, TraceLength=90, Model=model4.decl, Problem=ProblemSingle, Mutation=IntegerPolynomialMutation eta=1 prob=0.5, Crossover=UniformCrossover. Termination=DiversityTermination\n",
      "Execution Time (ProblemSingle): 306.47s\n",
      "Running ID=2: Population=4000, TraceLength=90, Model=model4.decl, Problem=ProblemSingle, Mutation=IntegerPolynomialMutation eta=1 prob=0.5, Crossover=TwoPointCrossover. Termination=DiversityTermination\n",
      "Execution Time (ProblemSingle): 302.54s\n"
     ]
    }
   ],
   "execution_count": 3
  }
 ],
 "metadata": {
  "kernelspec": {
   "display_name": "Python 3",
   "language": "python",
   "name": "python3"
  },
  "language_info": {
   "codemirror_mode": {
    "name": "ipython",
    "version": 2
   },
   "file_extension": ".py",
   "mimetype": "text/x-python",
   "name": "python",
   "nbconvert_exporter": "python",
   "pygments_lexer": "ipython2",
   "version": "2.7.6"
  }
 },
 "nbformat": 4,
 "nbformat_minor": 5
}

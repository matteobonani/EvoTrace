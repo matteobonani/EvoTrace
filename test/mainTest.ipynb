{
 "cells": [
  {
   "cell_type": "code",
   "id": "initial_id",
   "metadata": {
    "collapsed": true,
    "ExecuteTime": {
     "end_time": "2025-04-04T22:39:55.921255Z",
     "start_time": "2025-04-04T22:39:55.905236Z"
    }
   },
   "source": [
    "import warnings\n",
    "import logging\n",
    "import itertools\n",
    "from utils.problemSetup import ProblemSetup\n",
    "from utils.testSetup import Setup\n",
    "from datetime import datetime\n",
    "from ga_objects.problem import ProblemMultiElementWise, ProblemMultiNoConstElementWise, ProblemSingleElementWise, ProblemSingle\n",
    "from pymoo.operators.crossover.sbx import SBX\n",
    "from ga_objects.mutation import IntegerPolynomialMutation\n",
    "import os\n",
    "\n",
    "logging.getLogger('matplotlib').setLevel(logging.WARNING)\n",
    "warnings.filterwarnings(\"ignore\", \".*feasible.*\")\n"
   ],
   "outputs": [],
   "execution_count": 4
  },
  {
   "metadata": {
    "ExecuteTime": {
     "end_time": "2025-04-04T22:39:55.937198Z",
     "start_time": "2025-04-04T22:39:55.921255Z"
    }
   },
   "cell_type": "code",
   "source": [
    "\n",
    "import pm4py\n",
    "from ga_objects.crossover import ConstraintAwareCrossover\n",
    "from ga_objects.mutation import RandomIntegerMutation\n",
    "\n",
    "# feasible_init_pop = Setup.initial_population(\"../declare_models/model1_initial_pop.csv\",trace_length=50,trace_number=10)\n",
    "\n",
    "# feasible_init_pop = Setup.extract_traces(\"../declare_models/model4_initial_pop.csv\", 50)\n",
    "\n",
    "# print(feasible_init_pop)\n",
    "\n",
    "# feasible_init_pop = Setup.extract_traces_from_xes(\"../declare_models/log_model2.xes\", 50)\n",
    "\n",
    "# initial_random_population = Setup.initial_random_population(f\"../declare_models/model1.decl\",trace_length=50,trace_number=2990)\n",
    "#\n",
    "# initial_population = feasible_init_pop + initial_random_population\n",
    "\n",
    "\n",
    "# test configuration lists\n",
    "\n",
    "pop_list = [3000]\n",
    "num_event_list = [50]\n",
    "declare_model_list = [\"model1.decl\"]\n",
    "mutation_list = [IntegerPolynomialMutation(prob=0.5, eta=1)] # higher eta value results in smaller mutations (more localized changes), lower eta value leads to larger mutations (more exploratory behavior).\n",
    "crossover_list = [SBX(prob=0.9, eta=8)]\n",
    "problem_list = [ProblemSingle]\n",
    "termination_list = [\"myTerminator\"]\n",
    "\n"
   ],
   "id": "52cf0d6ce907030a",
   "outputs": [],
   "execution_count": 5
  },
  {
   "metadata": {
    "ExecuteTime": {
     "end_time": "2025-04-04T22:43:17.156509Z",
     "start_time": "2025-04-04T22:39:55.953313Z"
    }
   },
   "cell_type": "code",
   "source": [
    "current_date = datetime.today().strftime('%m-%d-%H-%M')\n",
    "\n",
    "for run in range(1, 2):\n",
    "    directory = f\"results/{current_date}\"\n",
    "    os.makedirs(directory, exist_ok=True)\n",
    "    file_name = f\"{directory}/result.csv\"\n",
    "\n",
    "    with open(file_name, \"a\") as f:\n",
    "        f.write(\"ID,Population,TraceLength,Model,Problem,Mutation,Termination,\"\n",
    "                \"ExecutionTime,DiversityScore,ConstraintScore,Iteration\\n\")\n",
    "        ID = 1\n",
    "\n",
    "        # iterate through all configurations\n",
    "        for combination in itertools.product(pop_list, num_event_list, declare_model_list, mutation_list, crossover_list,\n",
    "                                             problem_list,termination_list):\n",
    "            pop_size, trace_length, model, mutation, crossover, problem, termination = combination\n",
    "\n",
    "\n",
    "            print(f\"Running ID={ID}: Population={pop_size}, TraceLength={trace_length}, Model={model}, \"\n",
    "                  f\"Problem={problem.__name__}, Mutation={type(mutation).__name__} eta={mutation.eta} prob={mutation.prob.value}, Crossover={type(crossover).__name__}. Termination={termination}\")\n",
    "\n",
    "            problemSetup = ProblemSetup(pop_size, trace_length, model, mutation, crossover, problem, termination)\n",
    "            problemSetup.run_experiment(run, ID, f, model, f\"{directory}/plots\", f\"{directory}/encoded_traces\")\n",
    "\n",
    "            ID += 1"
   ],
   "id": "886a498744b6debf",
   "outputs": [
    {
     "name": "stdout",
     "output_type": "stream",
     "text": [
      "Running ID=1: Population=3000, TraceLength=50, Model=model1.decl, Problem=ProblemSingle, Mutation=IntegerPolynomialMutation eta=1 prob=0.5, Crossover=SBX. Termination=myTerminator\n",
      "Termination: Max time of 200 seconds reached!\n",
      "Execution Time (ProblemSingle): 200.84 seconds\n"
     ]
    }
   ],
   "execution_count": 6
  }
 ],
 "metadata": {
  "kernelspec": {
   "display_name": "Python 3",
   "language": "python",
   "name": "python3"
  },
  "language_info": {
   "codemirror_mode": {
    "name": "ipython",
    "version": 2
   },
   "file_extension": ".py",
   "mimetype": "text/x-python",
   "name": "python",
   "nbconvert_exporter": "python",
   "pygments_lexer": "ipython2",
   "version": "2.7.6"
  }
 },
 "nbformat": 4,
 "nbformat_minor": 5
}

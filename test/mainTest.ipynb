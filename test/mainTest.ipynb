{
 "cells": [
  {
   "cell_type": "code",
   "id": "initial_id",
   "metadata": {
    "collapsed": true,
    "ExecuteTime": {
     "end_time": "2025-02-15T16:32:11.138297Z",
     "start_time": "2025-02-15T16:32:09.084357Z"
    }
   },
   "source": [
    "from pymoo.termination.default import DefaultMultiObjectiveTermination, DefaultSingleObjectiveTermination\n",
    "import warnings\n",
    "import logging\n",
    "from terminator import MyTermination\n",
    "import itertools\n",
    "from pymoo.optimize import minimize\n",
    "from testSetup import Setup\n",
    "from datetime import datetime\n",
    "\n",
    "\n",
    "logging.getLogger('matplotlib').setLevel(logging.WARNING)\n",
    "warnings.filterwarnings(\"ignore\", \".*feasible.*\")"
   ],
   "outputs": [],
   "execution_count": 1
  },
  {
   "metadata": {
    "ExecuteTime": {
     "end_time": "2025-02-15T16:32:11.148478Z",
     "start_time": "2025-02-15T16:32:11.138297Z"
    }
   },
   "cell_type": "code",
   "source": [
    "# test Configuration Lists\n",
    "pop_list = [3000]  # population sizes\n",
    "num_event_list = [50]  # trace lengths\n",
    "declare_model_list = [\"model1.decl\"]  # declare models\n",
    "use_constraints = [\"yes\", \"no\"]\n",
    "termination_map = {\n",
    "    \"my_termination\": lambda pop_size: MyTermination(n_required=int(pop_size*0.8)), # with the lambda it dynamically takes as a parameter the pop_size\n",
    "    \"multi\": lambda _: DefaultMultiObjectiveTermination(\n",
    "        xtol=1e-8, cvtol=1e-6, ftol=0.0025, period=30, n_max_gen=1000, n_max_evals=100000\n",
    "    ),\n",
    "    \"single\": lambda _: DefaultSingleObjectiveTermination(\n",
    "        xtol=1e-8, cvtol=1e-6, ftol=1e-6, period=20, n_max_gen=1000, n_max_evals=100000\n",
    "    ),\n",
    "}\n"
   ],
   "id": "632651c8528e37f7",
   "outputs": [],
   "execution_count": 2
  },
  {
   "metadata": {
    "ExecuteTime": {
     "end_time": "2025-02-15T16:46:55.138854Z",
     "start_time": "2025-02-15T16:32:11.198239Z"
    }
   },
   "cell_type": "code",
   "source": [
    "\n",
    "# TODO add requirements file and Readme\n",
    "current_date = datetime.today().strftime('%Y-%m-%d')\n",
    "\n",
    "for test_run in range(1, 4):\n",
    "    file_name = f\"results/results_{current_date}.csv\"\n",
    "\n",
    "    with open(file_name, \"a\") as f:\n",
    "        f.write(\"ID,Population,TraceLength,Model,Termination,Algorithm,Constraints,\"\n",
    "                \"ExecutionTime,DiversityScore,ConstraintScore,NumberViolationScore,Iteration\\n\")\n",
    "        ID = 1\n",
    "\n",
    "        # iterate through all configurations\n",
    "        for combination in itertools.product(pop_list, num_event_list, declare_model_list, termination_map.keys(), use_constraints):\n",
    "            pop_size, trace_length, model, termination, constraints = combination\n",
    "\n",
    "            print(f\"Running ID={ID}: Population={pop_size}, TraceLength={trace_length}, Model={model}, Termination={termination}, Constraints={constraints}\")\n",
    "\n",
    "            # skip incompatible termination types\n",
    "            if constraints == \"no\" and termination == \"my_termination\":\n",
    "                print(f\"Skipping: {termination} is incompatible with {constraints} constraints.\")\n",
    "                continue\n",
    "\n",
    "            # initialize shared components\n",
    "            (\n",
    "                encoder, declare, event_log, dataframe, activities_name\n",
    "            ) = Setup.initialize_shared_components(path_to_declareModel=f\"../declare_models/{model}\", trace_length=trace_length)\n",
    "            (\n",
    "                initial_population, initial_encoded_pop,\n",
    "                lower_bounds, upper_bounds, mutation, crossover, sampling\n",
    "            ) = Setup.setup_initial_population(activities_name=activities_name, encoder=encoder)\n",
    "\n",
    "\n",
    "            try:\n",
    "                termination_instance = termination_map[termination](pop_size)\n",
    "\n",
    "                # determine algorithm type\n",
    "                if constraints == \"no\":\n",
    "                    algorithm_types = [\"single\"]  # use single-objective GA if no constraints\n",
    "                else:\n",
    "                    algorithm_types = [\"single\", \"multi\"] if termination == \"my_termination\" else [termination]\n",
    "\n",
    "                for algorithm_type in algorithm_types:\n",
    "                    problem = Setup.create_problem(\n",
    "                        algorithm_type, trace_length, encoder, declare, initial_encoded_pop,\n",
    "                        lower_bounds, upper_bounds, event_log, dataframe, constraints\n",
    "                    )\n",
    "\n",
    "\n",
    "                    algorithm = Setup.create_algorithm(algorithm_type, problem, pop_size, sampling, crossover, mutation)\n",
    "\n",
    "                    # run optimization and log results\n",
    "                    try:\n",
    "                        result = minimize(problem, algorithm, termination=termination_instance, verbose=False)\n",
    "                        exec_time = result.exec_time\n",
    "\n",
    "                        # extract callback data\n",
    "                        data = result.algorithm.callback.get_data()\n",
    "                        diversity_scores = data.get(\"diversity_history\", None)\n",
    "                        constraint_scores = data.get(\"constraint_history\", None)\n",
    "                        n_violations_scores = data.get(\"n_violations_history\", None)\n",
    "                        n_generations = data.get(\"generations\", None)\n",
    "\n",
    "                        # log results\n",
    "                        Setup.log_results(f, ID, pop_size, trace_length, model, termination, algorithm_type, constraints,\n",
    "                                          exec_time, diversity_scores, constraint_scores, n_violations_scores)\n",
    "\n",
    "                        # plot and save progress\n",
    "                        Setup.plot_and_save_progress(ID, test_run, algorithm_type, constraints, current_date,\n",
    "                                                     diversity_scores, constraint_scores, n_violations_scores, n_generations)\n",
    "\n",
    "                        # save traces\n",
    "                        Setup.save_feasible_traces(result.pop, encoder, test_run, ID, algorithm_type, constraints, current_date)\n",
    "\n",
    "                    except Exception as algo_error:\n",
    "                        Setup.log_results(f, ID, pop_size, trace_length, model, termination, algorithm_type, constraints,\n",
    "                                          \"N/A\", None, None, None, error=algo_error)\n",
    "                    ID += 1\n",
    "\n",
    "            except Exception as config_error:\n",
    "                Setup.log_results(f, ID, pop_size, trace_length, model, termination, \"N/A\", constraints,\n",
    "                                  \"N/A\", None, None, None, error=config_error)\n",
    "                ID += 1\n"
   ],
   "id": "9393469569b8093a",
   "outputs": [
    {
     "name": "stdout",
     "output_type": "stream",
     "text": [
      "Running ID=1: Population=3000, TraceLength=50, Model=model1.decl, Termination=my_termination, Constraints=yes\n",
      "Execution Time (single): 32.88 seconds\n",
      "Execution Time (multi): 32.90 seconds\n",
      "Running ID=3: Population=3000, TraceLength=50, Model=model1.decl, Termination=my_termination, Constraints=no\n",
      "Skipping: my_termination is incompatible with no constraints.\n",
      "Running ID=3: Population=3000, TraceLength=50, Model=model1.decl, Termination=multi, Constraints=yes\n",
      "Execution Time (multi): 115.80 seconds\n",
      "Running ID=4: Population=3000, TraceLength=50, Model=model1.decl, Termination=multi, Constraints=no\n",
      "Execution Time (single): 16.61 seconds\n",
      "Running ID=5: Population=3000, TraceLength=50, Model=model1.decl, Termination=single, Constraints=yes\n",
      "Execution Time (single): 87.95 seconds\n",
      "Running ID=6: Population=3000, TraceLength=50, Model=model1.decl, Termination=single, Constraints=no\n",
      "Execution Time (single): 16.38 seconds\n",
      "Running ID=1: Population=3000, TraceLength=50, Model=model1.decl, Termination=my_termination, Constraints=yes\n",
      "Execution Time (single): 32.21 seconds\n",
      "Execution Time (multi): 33.72 seconds\n",
      "Running ID=3: Population=3000, TraceLength=50, Model=model1.decl, Termination=my_termination, Constraints=no\n",
      "Skipping: my_termination is incompatible with no constraints.\n",
      "Running ID=3: Population=3000, TraceLength=50, Model=model1.decl, Termination=multi, Constraints=yes\n",
      "Execution Time (multi): 117.08 seconds\n",
      "Running ID=4: Population=3000, TraceLength=50, Model=model1.decl, Termination=multi, Constraints=no\n",
      "Execution Time (single): 17.05 seconds\n",
      "Running ID=5: Population=3000, TraceLength=50, Model=model1.decl, Termination=single, Constraints=yes\n",
      "Execution Time (single): 72.68 seconds\n",
      "Running ID=6: Population=3000, TraceLength=50, Model=model1.decl, Termination=single, Constraints=no\n",
      "Execution Time (single): 16.41 seconds\n",
      "Running ID=1: Population=3000, TraceLength=50, Model=model1.decl, Termination=my_termination, Constraints=yes\n",
      "Execution Time (single): 32.46 seconds\n",
      "Execution Time (multi): 30.59 seconds\n",
      "Running ID=3: Population=3000, TraceLength=50, Model=model1.decl, Termination=my_termination, Constraints=no\n",
      "Skipping: my_termination is incompatible with no constraints.\n",
      "Running ID=3: Population=3000, TraceLength=50, Model=model1.decl, Termination=multi, Constraints=yes\n",
      "Execution Time (multi): 116.18 seconds\n",
      "Running ID=4: Population=3000, TraceLength=50, Model=model1.decl, Termination=multi, Constraints=no\n",
      "Execution Time (single): 16.88 seconds\n",
      "Running ID=5: Population=3000, TraceLength=50, Model=model1.decl, Termination=single, Constraints=yes\n",
      "Execution Time (single): 75.29 seconds\n",
      "Running ID=6: Population=3000, TraceLength=50, Model=model1.decl, Termination=single, Constraints=no\n",
      "Execution Time (single): 16.76 seconds\n"
     ]
    }
   ],
   "execution_count": 3
  },
  {
   "metadata": {
    "ExecuteTime": {
     "end_time": "2025-02-15T16:46:55.176494Z",
     "start_time": "2025-02-15T16:46:55.163655Z"
    }
   },
   "cell_type": "code",
   "source": "",
   "id": "9bbceebb80363c3c",
   "outputs": [],
   "execution_count": null
  }
 ],
 "metadata": {
  "kernelspec": {
   "display_name": "Python 3",
   "language": "python",
   "name": "python3"
  },
  "language_info": {
   "codemirror_mode": {
    "name": "ipython",
    "version": 2
   },
   "file_extension": ".py",
   "mimetype": "text/x-python",
   "name": "python",
   "nbconvert_exporter": "python",
   "pygments_lexer": "ipython2",
   "version": "2.7.6"
  }
 },
 "nbformat": 4,
 "nbformat_minor": 5
}

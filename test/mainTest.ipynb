{
 "cells": [
  {
   "cell_type": "code",
   "id": "initial_id",
   "metadata": {
    "collapsed": true,
    "ExecuteTime": {
     "end_time": "2025-02-28T13:12:49.826127Z",
     "start_time": "2025-02-28T13:12:47.667726Z"
    }
   },
   "source": [
    "import warnings\n",
    "import logging\n",
    "import itertools\n",
    "from problemSetup import ProblemSetup\n",
    "from testSetup import Setup\n",
    "from datetime import datetime\n",
    "from problem import ProblemMultiElementWise, ProblemMultiNoConstElementWise, ProblemSingleElementWise\n",
    "from pymoo.operators.crossover.sbx import SBX\n",
    "from mutation import IntegerPolynomialMutation\n",
    "\n",
    "logging.getLogger('matplotlib').setLevel(logging.WARNING)\n",
    "warnings.filterwarnings(\"ignore\", \".*feasible.*\")\n"
   ],
   "outputs": [],
   "execution_count": 1
  },
  {
   "metadata": {
    "ExecuteTime": {
     "end_time": "2025-02-28T13:12:49.841916Z",
     "start_time": "2025-02-28T13:12:49.826127Z"
    }
   },
   "cell_type": "code",
   "source": [
    "\n",
    "from mutation import RandomIntegerMutation\n",
    "\n",
    "feasible_init_pop = Setup.initial_population(\"../declare_models/model1_initial_pop.csv\",trace_length=50,trace_number=10)\n",
    "\n",
    "# test configuration lists\n",
    "pop_list = [3000]  # population sizes\n",
    "num_event_list = [50]  # trace lengths\n",
    "declare_model_list = [\"model1.decl\"]  # declare models\n",
    "mutation_list = [IntegerPolynomialMutation(prob=0.1, eta=20), IntegerPolynomialMutation(prob=0.7, eta=5), RandomIntegerMutation(0.5)]\n",
    "crossover_list = [SBX(prob=0.9, eta=10)]\n",
    "problem_list = [ProblemMultiElementWise, ProblemMultiNoConstElementWise, ProblemSingleElementWise]\n",
    "initial_population_list = [feasible_init_pop]\n"
   ],
   "id": "52cf0d6ce907030a",
   "outputs": [],
   "execution_count": 2
  },
  {
   "metadata": {
    "ExecuteTime": {
     "end_time": "2025-02-28T18:43:15.586170400Z",
     "start_time": "2025-02-28T13:12:49.889258Z"
    }
   },
   "cell_type": "code",
   "source": [
    "current_date = datetime.today().strftime('%m-%d-%H')\n",
    "\n",
    "for run in range(1, 4):\n",
    "    file_name = f\"results/results_{current_date}.csv\"\n",
    "\n",
    "    with open(file_name, \"a\") as f:\n",
    "        f.write(\"ID,Population,TraceLength,Model,Problem,Mutation,\"\n",
    "                \"ExecutionTime,DiversityScore,ConstraintScore,NumberViolationScore,Iteration\\n\")\n",
    "        ID = 1\n",
    "\n",
    "        # iterate through all configurations\n",
    "        for combination in itertools.product(pop_list, num_event_list, declare_model_list, mutation_list, crossover_list, problem_list, initial_population_list):\n",
    "            pop_size, trace_length, model, mutation, crossover, problem, initial_population = combination\n",
    "\n",
    "            print(f\"Running ID={ID}: Population={pop_size}, TraceLength={trace_length}, Model={model}, Problem={problem.__name__}, Mutation={type(mutation).__name__}\")\n",
    "\n",
    "            problemSetup = ProblemSetup(pop_size, trace_length, f\"../declare_models/{model}\", mutation, crossover, problem, initial_population)\n",
    "            problemSetup.run_experiment(run, ID, f, model, f\"results/plots/run_{current_date}\", f\"results/encoded_traces/encoded_traces_{current_date}\")\n",
    "\n",
    "            ID += 1\n",
    "\n",
    "\n",
    "\n",
    "\n"
   ],
   "id": "886a498744b6debf",
   "outputs": [
    {
     "name": "stdout",
     "output_type": "stream",
     "text": [
      "Running ID=1: Population=3000, TraceLength=50, Model=model1.decl, Problem=ProblemMultiElementWise, Mutation=IntegerPolynomialMutation\n",
      "Execution Time (IntegerPolynomialMutation): 337.34 seconds\n",
      "Running ID=2: Population=3000, TraceLength=50, Model=model1.decl, Problem=ProblemMultiNoConstElementWise, Mutation=IntegerPolynomialMutation\n",
      "Termination: Max time of 1200 seconds reached!\n",
      "Execution Time (IntegerPolynomialMutation): 1203.88 seconds\n",
      "Running ID=3: Population=3000, TraceLength=50, Model=model1.decl, Problem=ProblemSingleElementWise, Mutation=IntegerPolynomialMutation\n",
      "Execution Time (IntegerPolynomialMutation): 239.19 seconds\n",
      "Running ID=4: Population=3000, TraceLength=50, Model=model1.decl, Problem=ProblemMultiElementWise, Mutation=IntegerPolynomialMutation\n",
      "Execution Time (IntegerPolynomialMutation): 121.87 seconds\n",
      "Running ID=5: Population=3000, TraceLength=50, Model=model1.decl, Problem=ProblemMultiNoConstElementWise, Mutation=IntegerPolynomialMutation\n",
      "Termination: Max time of 1200 seconds reached!\n",
      "Execution Time (IntegerPolynomialMutation): 1201.92 seconds\n",
      "Running ID=6: Population=3000, TraceLength=50, Model=model1.decl, Problem=ProblemSingleElementWise, Mutation=IntegerPolynomialMutation\n",
      "Execution Time (IntegerPolynomialMutation): 115.02 seconds\n",
      "Running ID=7: Population=3000, TraceLength=50, Model=model1.decl, Problem=ProblemMultiElementWise, Mutation=RandomIntegerMutation\n",
      "Execution Time (RandomIntegerMutation): 1002.05 seconds\n",
      "Running ID=8: Population=3000, TraceLength=50, Model=model1.decl, Problem=ProblemMultiNoConstElementWise, Mutation=RandomIntegerMutation\n",
      "Termination: Max time of 1200 seconds reached!\n",
      "Execution Time (RandomIntegerMutation): 1203.85 seconds\n",
      "Running ID=9: Population=3000, TraceLength=50, Model=model1.decl, Problem=ProblemSingleElementWise, Mutation=RandomIntegerMutation\n",
      "Termination: Max time of 1200 seconds reached!\n",
      "Execution Time (RandomIntegerMutation): 1203.80 seconds\n",
      "Running ID=1: Population=3000, TraceLength=50, Model=model1.decl, Problem=ProblemMultiElementWise, Mutation=IntegerPolynomialMutation\n",
      "Execution Time (IntegerPolynomialMutation): 316.86 seconds\n",
      "Running ID=2: Population=3000, TraceLength=50, Model=model1.decl, Problem=ProblemMultiNoConstElementWise, Mutation=IntegerPolynomialMutation\n",
      "Termination: Max time of 1200 seconds reached!\n",
      "Execution Time (IntegerPolynomialMutation): 1203.36 seconds\n",
      "Running ID=3: Population=3000, TraceLength=50, Model=model1.decl, Problem=ProblemSingleElementWise, Mutation=IntegerPolynomialMutation\n",
      "Execution Time (IntegerPolynomialMutation): 350.97 seconds\n",
      "Running ID=4: Population=3000, TraceLength=50, Model=model1.decl, Problem=ProblemMultiElementWise, Mutation=IntegerPolynomialMutation\n",
      "Execution Time (IntegerPolynomialMutation): 121.24 seconds\n",
      "Running ID=5: Population=3000, TraceLength=50, Model=model1.decl, Problem=ProblemMultiNoConstElementWise, Mutation=IntegerPolynomialMutation\n",
      "Termination: Max time of 1200 seconds reached!\n",
      "Execution Time (IntegerPolynomialMutation): 1203.92 seconds\n",
      "Running ID=6: Population=3000, TraceLength=50, Model=model1.decl, Problem=ProblemSingleElementWise, Mutation=IntegerPolynomialMutation\n",
      "Execution Time (IntegerPolynomialMutation): 111.22 seconds\n",
      "Running ID=7: Population=3000, TraceLength=50, Model=model1.decl, Problem=ProblemMultiElementWise, Mutation=RandomIntegerMutation\n",
      "Execution Time (RandomIntegerMutation): 1102.96 seconds\n",
      "Running ID=8: Population=3000, TraceLength=50, Model=model1.decl, Problem=ProblemMultiNoConstElementWise, Mutation=RandomIntegerMutation\n",
      "Termination: Max time of 1200 seconds reached!\n",
      "Execution Time (RandomIntegerMutation): 8738.32 seconds\n",
      "Running ID=9: Population=3000, TraceLength=50, Model=model1.decl, Problem=ProblemSingleElementWise, Mutation=RandomIntegerMutation\n"
     ]
    }
   ],
   "execution_count": null
  }
 ],
 "metadata": {
  "kernelspec": {
   "display_name": "Python 3",
   "language": "python",
   "name": "python3"
  },
  "language_info": {
   "codemirror_mode": {
    "name": "ipython",
    "version": 2
   },
   "file_extension": ".py",
   "mimetype": "text/x-python",
   "name": "python",
   "nbconvert_exporter": "python",
   "pygments_lexer": "ipython2",
   "version": "2.7.6"
  }
 },
 "nbformat": 4,
 "nbformat_minor": 5
}
